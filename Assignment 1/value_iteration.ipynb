{
  "nbformat": 4,
  "nbformat_minor": 0,
  "metadata": {
    "language_info": {
      "codemirror_mode": {
        "name": "ipython",
        "version": 3
      },
      "file_extension": ".py",
      "mimetype": "text/x-python",
      "name": "python",
      "nbconvert_exporter": "python",
      "pygments_lexer": "ipython3",
      "version": "3.8.5-final"
    },
    "orig_nbformat": 2,
    "kernelspec": {
      "name": "python3",
      "display_name": "Python 3.8.5 64-bit ('base': conda)",
      "metadata": {
        "interpreter": {
          "hash": "ff00dac108179d3c1c82d8e6cb9ecf4e9dc3d3f409cd941b5c5be41e7679c1ce"
        }
      }
    },
    "colab": {
      "name": "Copy of IITM_RL_VI_v1.ipynb",
      "provenance": [],
      "collapsed_sections": []
    }
  },
  "cells": [
    {
      "cell_type": "markdown",
      "metadata": {
        "id": "xMOtbrHSzC1r"
      },
      "source": [
        "<div style=\"text-align: center\">\n",
        "  <a href=\"https://www.aicrowd.com/challenges/rl-vi\"><img alt=\"AIcrowd\" src=\"https://images.aicrowd.com/raw_images/challenges/banner_file/754/3fc6598e270b9219e215.jpg\"></a>\n",
        "</div>"
      ]
    },
    {
      "cell_type": "markdown",
      "metadata": {
        "id": "WXuhHGatRVNf"
      },
      "source": [
        "# What is the notebook about?\n",
        "\n",
        "## Problem - Value Iteration\n",
        "This problem deals with a grid world and stochastic actions. The tasks you have to do are:\n",
        "- Complete the Environment\n",
        "- Write code for value Iteration\n",
        "- Visualize Results\n",
        "- Explain the results\n",
        "\n",
        "## How to use this notebook? 📝\n",
        "\n",
        "- This is a shared template and any edits you make here will not be saved.**You\n",
        "should make a copy in your own drive**. Click the \"File\" menu (top-left), then \"Save a Copy in Drive\". You will be working in your copy however you like.\n",
        "\n",
        "- **Update the config parameters**. You can define the common variables here\n",
        "\n",
        "Variable | Description\n",
        "--- | ---\n",
        "`AICROWD_DATASET_PATH` | Path to the file containing test data. This should be an absolute path.\n",
        "`AICROWD_RESULTS_DIR` | Path to write the output to.\n",
        "`AICROWD_ASSETS_DIR` | In case your notebook needs additional files (like model weights, etc.,), you can add them to a directory and specify the path to the directory here (please specify relative path). The contents of this directory will be sent to AIcrowd for evaluation.\n",
        "`AICROWD_API_KEY` | In order to submit your code to AIcrowd, you need to provide your account's API key. This key is available at https://www.aicrowd.com/participants/me\n",
        "\n",
        "- **Installing packages**. Please use the [Install packages 🗃](#install-packages-) section to install the packages"
      ]
    },
    {
      "cell_type": "markdown",
      "metadata": {
        "id": "1gzlHU3wRQRj"
      },
      "source": [
        "# Setup AIcrowd Utilities 🛠\n",
        "\n",
        "We use this to bundle the files for submission and create a submission on AIcrowd. Do not edit this block."
      ]
    },
    {
      "cell_type": "code",
      "metadata": {
        "colab": {
          "base_uri": "https://localhost:8080/"
        },
        "id": "FMKvhbEKiFH5",
        "outputId": "412806c1-f281-4411-f8ed-a143c6b6c953"
      },
      "source": [
        "!pip install -U git+https://gitlab.aicrowd.com/aicrowd/aicrowd-cli.git@notebook-submission-v2 > /dev/null "
      ],
      "execution_count": null,
      "outputs": [
        {
          "output_type": "stream",
          "text": [
            "  Running command git clone -q https://gitlab.aicrowd.com/aicrowd/aicrowd-cli.git /tmp/pip-req-build-cao1mtee\n",
            "  Running command git checkout -b notebook-submission-v2 --track origin/notebook-submission-v2\n",
            "  Switched to a new branch 'notebook-submission-v2'\n",
            "  Branch 'notebook-submission-v2' set up to track remote branch 'notebook-submission-v2' from 'origin'.\n"
          ],
          "name": "stdout"
        }
      ]
    },
    {
      "cell_type": "markdown",
      "metadata": {
        "id": "oJuQ_nzaRpp6"
      },
      "source": [
        "# AIcrowd Runtime Configuration 🧷\n",
        "\n",
        "Define configuration parameters."
      ]
    },
    {
      "cell_type": "code",
      "metadata": {
        "id": "uBKm1IuliJc7"
      },
      "source": [
        "import os\n",
        "\n",
        "AICROWD_DATASET_PATH = os.getenv(\"DATASET_PATH\", os.getcwd()+\"/9db39385-0a4b-47db-8d20-fffb0480e47e_hw2_q2.zip\")\n",
        "AICROWD_RESULTS_DIR = os.getenv(\"OUTPUTS_DIR\", \"results\")\n",
        "API_KEY = \"a98ef81b017008edad014f38a0bb30ae\" # Get your key from https://www.aicrowd.com/participants/me (ctrl + click the link)"
      ],
      "execution_count": null,
      "outputs": []
    },
    {
      "cell_type": "code",
      "metadata": {
        "colab": {
          "base_uri": "https://localhost:8080/"
        },
        "id": "RQnfZ7VYidPC",
        "outputId": "14e7838f-8535-4b09-d184-5a088b725719"
      },
      "source": [
        "!aicrowd login --api-key $API_KEY\n",
        "!aicrowd dataset download -c rl-vi"
      ],
      "execution_count": null,
      "outputs": [
        {
          "output_type": "stream",
          "text": [
            "\u001b[32mAPI Key valid\u001b[0m\n",
            "\u001b[32mSaved API Key successfully!\u001b[0m\n",
            "9db39385-0a4b-47db-8d20-fffb0480e47e_hw2_q2.zip: 100% 3.08k/3.08k [00:00<00:00, 88.3kB/s]\n"
          ],
          "name": "stdout"
        }
      ]
    },
    {
      "cell_type": "code",
      "metadata": {
        "colab": {
          "base_uri": "https://localhost:8080/"
        },
        "id": "RHqevxIX_4fo",
        "outputId": "8dac2ce2-1e77-4b51-de43-fab218155f4b"
      },
      "source": [
        "!unzip $AICROWD_DATASET_PATH"
      ],
      "execution_count": null,
      "outputs": [
        {
          "output_type": "stream",
          "text": [
            "Archive:  /content/9db39385-0a4b-47db-8d20-fffb0480e47e_hw2_q2.zip\n",
            "   creating: hw2_q2/\n",
            "   creating: hw2_q2/targets/\n",
            "  inflating: hw2_q2/targets/targets_0.npy  \n",
            "   creating: hw2_q2/sample_results/\n",
            "  inflating: hw2_q2/sample_results/sample_results_0.npy  \n",
            "   creating: hw2_q2/inputs/\n",
            "  inflating: hw2_q2/inputs/env_params_0.npy  \n"
          ],
          "name": "stdout"
        }
      ]
    },
    {
      "cell_type": "code",
      "metadata": {
        "id": "gm46inU6ABu-"
      },
      "source": [
        "DATASET_DIR = 'hw2_q2/'\n",
        "!mkdir {DATASET_DIR}results/"
      ],
      "execution_count": null,
      "outputs": []
    },
    {
      "cell_type": "markdown",
      "metadata": {
        "id": "gTeWFlWukTob"
      },
      "source": [
        "# Install packages 🗃\n",
        "\n",
        "Please add all package installations in this section"
      ]
    },
    {
      "cell_type": "code",
      "metadata": {
        "id": "cusnfjYFRVNm"
      },
      "source": [
        ""
      ],
      "execution_count": null,
      "outputs": []
    },
    {
      "cell_type": "markdown",
      "metadata": {
        "id": "TxdOqsVGRXKg"
      },
      "source": [
        "# Import packages 💻"
      ]
    },
    {
      "cell_type": "code",
      "metadata": {
        "id": "lmhJUSs2Rjvh"
      },
      "source": [
        "import numpy as np\n",
        "import matplotlib.pyplot as plt \n",
        "import os\n",
        "from copy import deepcopy\n",
        "# ADD ANY IMPORTS YOU WANT HERE\n"
      ],
      "execution_count": null,
      "outputs": []
    },
    {
      "cell_type": "markdown",
      "metadata": {
        "id": "XP-1yA7URVNn"
      },
      "source": [
        "# Task 0 - Complete the environment\n",
        "You need to complete part of the environment which calculates the possible next states, their probabilities, and the reward."
      ]
    },
    {
      "cell_type": "code",
      "metadata": {
        "id": "GumM6eyWRVNn"
      },
      "source": [
        "class GridEnv_HW2:\n",
        "    def __init__(self, \n",
        "                 goal_location, \n",
        "                 action_stochasticity,\n",
        "                 non_terminal_reward,\n",
        "                 terminal_reward,\n",
        "                 grey_in,\n",
        "                 brown_in,\n",
        "                 grey_out,\n",
        "                 brown_out\n",
        "                ):\n",
        "\n",
        "        # Do not edit this section \n",
        "        self.action_stochasticity = action_stochasticity\n",
        "        self.non_terminal_reward = non_terminal_reward\n",
        "        self.terminal_reward = terminal_reward\n",
        "        self.grid_size = [10, 10]\n",
        "\n",
        "        # Index of the actions \n",
        "        self.actions = {'N': (-1, 0), \n",
        "                        'E': (0,1), \n",
        "                        'S': (1,0), \n",
        "                        'W': (0,-1)}\n",
        "        \n",
        "        # Do not worry about the names not matching the direction you expect\n",
        "        # Think of them as generic names and use the mapping to get the action direction and stochasticity\n",
        "        self.perpendicular_order = ['N', 'E', 'S', 'W']\n",
        "        \n",
        "        l = ['normal' for _ in range(self.grid_size[0]) ]\n",
        "        self.grid = np.array([l for _ in range(self.grid_size[1]) ], dtype=object)\n",
        "\n",
        "        self.grid[goal_location[0], goal_location[1]] = 'goal'\n",
        "        self.goal_location = goal_location\n",
        "\n",
        "        for gi in grey_in:\n",
        "            self.grid[gi[0],gi[1]] = 'grey_in'\n",
        "        for bi in brown_in:    \n",
        "            self.grid[bi[0], bi[1]] = 'brown_in'\n",
        "\n",
        "        self.grey_out = go = grey_out\n",
        "        self.brown_out = bo = brown_out\n",
        "\n",
        "        self.grid[go[0], go[1]] = 'grey_out'\n",
        "        self.grid[bo[0], bo[1]] = 'brown_out'\n",
        "        \n",
        "        self.states_sanity_check()\n",
        "    \n",
        "    def states_sanity_check(self):\n",
        "        \"\"\" Implement to prevent cases where the goal gets overwritten etc \"\"\"\n",
        "        pass\n",
        "\n",
        "    def visualize_grid(self):\n",
        "        pass\n",
        "\n",
        "    def _out_of_grid(self, state):\n",
        "        if state[0] < 0 or state[1] < 0:\n",
        "            return True\n",
        "        elif state[0] > self.grid_size[0] - 1:\n",
        "            return True\n",
        "        elif state[1] > self.grid_size[1] - 1:\n",
        "            return True\n",
        "        else:\n",
        "            return False\n",
        "\n",
        "    def _grid_state(self, state):\n",
        "        return self.grid[state[0], state[1]]        \n",
        "        \n",
        "    def get_transition_probabilites_and_reward(self, state, action):\n",
        "        \"\"\" \n",
        "        Returns the probabiltity of all possible transitions for the given action in the form:\n",
        "        A list of tuples of (next_state, probability, reward)\n",
        "        Note that based on number of state and action there can be many different next states\n",
        "        Unless the state is All the probabilities of next states should add up to 1\n",
        "        \"\"\"\n",
        "\n",
        "        grid_state = self._grid_state(state)\n",
        "        \n",
        "        if grid_state == 'goal':\n",
        "            return [(self.goal_location, 1.0, 0.0)]\n",
        "        elif grid_state == 'grey_in':\n",
        "            return [(self.grey_out, 1.0, self.non_terminal_reward)]\n",
        "        elif grid_state == 'brown_in':\n",
        "            return [(self.brown_out, 1.0, self.non_terminal_reward)]\n",
        "        \n",
        "        direction = self.actions.get(action, None)\n",
        "        if direction is None:\n",
        "            raise ValueError(\"Invalid action %s , please select among\" % action, list(self.actions.keys()))\n",
        "\n",
        "        nextstates_prob_rews = []\n",
        "\n",
        "        # TASK 0 - Complete the environment\n",
        "\n",
        "        # ADD YOUR CODE BELOW - DO NOT EDIT ABOVE THIS LINE\n",
        "\n",
        "        if grid_state == 'normal' or 'grey_out' or 'brown_out':\n",
        "            self.action_stochasticity = list(self.action_stochasticity)\n",
        "            i = self.perpendicular_order.index(action)\n",
        "            action_probab = deepcopy( self.action_stochasticity[len(self.action_stochasticity)-i:] + self.action_stochasticity[:len(self.action_stochasticity)-i] )\n",
        "            for j in range(len(action_probab)):\n",
        "              if action_probab[j] != 0:\n",
        "                  nextstate = deepcopy((state[0] + self.actions[self.perpendicular_order[j]][0], state[1] + self.actions[self.perpendicular_order[j]][1]))\n",
        "                  if nextstate == (self.goal_location[0] , self.goal_location[1]):\n",
        "                    nextstates_prob_rews.append(deepcopy((nextstate , action_probab[j] , self.terminal_reward)))\n",
        "                  elif self._out_of_grid(nextstate):\n",
        "                    nextstate = deepcopy((state[0],state[1]))\n",
        "                    nextstates_prob_rews.append(deepcopy((nextstate , action_probab[j] , self.non_terminal_reward)))\n",
        "                  else:\n",
        "                    nextstates_prob_rews.append(deepcopy((nextstate , action_probab[j] , self.non_terminal_reward)))\n",
        "\n",
        "\n",
        "        # Hints: \n",
        "            # Get access to all actions with self.actions\n",
        "            # Use self.action_stochasticity for the probabilities of the other action\n",
        "                # The array will have probabilities for [0, 90, 180, -90] degrees\n",
        "                # So self.action_stochasticity = [0.8, 0.1, 0.0, 0.1] means 0.8 for forward and 0.1 for left and right\n",
        "            # Remember that you need to return a list of tuples with the form (next_state, probability, reward)\n",
        "            # If you have 3 possible next states, you should return [(ns1, p1, r1), (ns2, p2, r2), (ns3, p3, r3)]\n",
        "            # Use the helper function self._out_of_grid to check if any state is outside the grid\n",
        "            \n",
        "        # Important Note:\n",
        "            # Do not hard code any state locations, they may be changed in the submissions\n",
        "\n",
        "\n",
        "        # DO NOT EDIT BELOW THIS LINE\n",
        "\n",
        "        return nextstates_prob_rews"
      ],
      "execution_count": null,
      "outputs": []
    },
    {
      "cell_type": "markdown",
      "metadata": {
        "id": "vVL7B0cjSZyy"
      },
      "source": [
        "# Question - When do you decide to stop value iteration \n",
        "\n",
        "**Answer **- \n",
        "\n",
        "Theoretically, value iteration stops at infinite iteration.\n",
        "But, Practically we can't allow the loop to run ot infinity. So, we assume convergence (i.e. Value Iteration has found the optimal cost and policy) has occured and stop the iteration when the maximum difference in value_grids' successive final iterations is below a tolerance value.(i.e. 1e-8 here)"
      ]
    },
    {
      "cell_type": "markdown",
      "metadata": {
        "id": "AD3Jgj2JRVNp"
      },
      "source": [
        "# Task 1"
      ]
    },
    {
      "cell_type": "markdown",
      "metadata": {
        "id": "GIDOS51MWPU9"
      },
      "source": [
        "## a) Implement Value iteration"
      ]
    },
    {
      "cell_type": "code",
      "metadata": {
        "tags": [],
        "id": "45p2j33NRVNp"
      },
      "source": [
        "def value_iter(env):\n",
        "  value_grid = np.zeros((10, 10)) # Marked as J(s) in the homework pdf\n",
        "  policy = np.zeros((10, 10), np.int32) # Marked as pi(s) in homework pdf\n",
        "\n",
        "  value_grids = [] # Store all the J(s) grids at every iteration in this list\n",
        "  policies = []  # Store all the pi(s) grids at every iteration in this list\n",
        "\n",
        "  # ADD YOUR CODE BELOW - DO NOT EDIT ABOVE THIS LINE\n",
        "\n",
        "  l = -1\n",
        "  value_grid1 = np.zeros((10,10))\n",
        "  policy_grid1 = np.zeros((10, 10), np.int32)\n",
        "  while(True):\n",
        "    l = l+1\n",
        "    for i in range(10):\n",
        "      for j in range(10):\n",
        "            value = np.NINF\n",
        "            policy1 = ''\n",
        "            for actions in env.perpendicular_order :\n",
        "                nspr = env.get_transition_probabilites_and_reward((i,j), actions)\n",
        "                prob = deepcopy([ nspr[k][1] for k in range(len(nspr))])\n",
        "                ns = deepcopy([(nspr[k][0][0],nspr[k][0][1]) for k in range(len(nspr))])\n",
        "                rew = deepcopy([nspr[k][2] for k in range(len(nspr))])\n",
        "                value_grid1[i][j] =  sum( [ prob[k]*(rew[k] + value_grid[ns[k][0]][ns[k][1]]) for k in range(len(nspr))])\n",
        "\n",
        "                if value != value_grid1[i][j]:\n",
        "                  value = deepcopy(max(value_grid1[i][j], value))\n",
        "                  if value == value_grid1[i][j]:\n",
        "                    policy1 = deepcopy(actions)\n",
        "\n",
        "            value_grid[i][j] = deepcopy(value)\n",
        "            policy[i][j] = deepcopy(env.perpendicular_order.index(policy1))\n",
        "        \n",
        "\n",
        "    value_grids.append(deepcopy(value_grid))\n",
        "    policies.append(deepcopy(policy))\n",
        "\n",
        "\n",
        "    if l>=1:\n",
        "      converge = deepcopy(np.amax(np.absolute(value_grids[l]-value_grids[l-1])))\n",
        "      if converge < 1e-8:\n",
        "          #print(l)\n",
        "          #print(value_grids[l])           #Uncomment these lines to print the output\n",
        "          #print(policies[l])\n",
        "          break\n",
        "\n",
        "\n",
        "  # Important Note: \n",
        "  # The action names are strings but the expected output is an integer array\n",
        "  # To get the corresponding mapping of integer values use -> env.perpendicular_order\n",
        "  # So if your action is 'E' \n",
        "  # Your result would be: env.perpendicular_order.index('E') -> 1\n",
        "  \n",
        "\n",
        "  # DO NOT EDIT BELOW THIS LINE\n",
        "  results = {\"value_grid\": value_grid, \"pi_s\": policy}\n",
        "  return results, value_grids, policies"
      ],
      "execution_count": null,
      "outputs": []
    },
    {
      "cell_type": "markdown",
      "metadata": {
        "id": "mus58g6PCx0I"
      },
      "source": [
        "## Here is an example of what the \"results\" output from value_iter function should look like\n",
        "\n",
        "**The numpy array may look different from the image given in the pdf because the origins are different, do not worry about this, use indexing and directions as providided by the env class (env.actions) and do not hard code anything.**\n",
        "\n",
        "Ofcourse, it won't be all zeros\n",
        "\n",
        "``` python \n",
        "{'value_grid': array([[0., 0., 0., 0., 0., 0., 0., 0., 0., 0.],\n",
        "         [0., 0., 0., 0., 0., 0., 0., 0., 0., 0.],\n",
        "         [0., 0., 0., 0., 0., 0., 0., 0., 0., 0.],\n",
        "         [0., 0., 0., 0., 0., 0., 0., 0., 0., 0.],\n",
        "         [0., 0., 0., 0., 0., 0., 0., 0., 0., 0.],\n",
        "         [0., 0., 0., 0., 0., 0., 0., 0., 0., 0.],\n",
        "         [0., 0., 0., 0., 0., 0., 0., 0., 0., 0.],\n",
        "         [0., 0., 0., 0., 0., 0., 0., 0., 0., 0.],\n",
        "         [0., 0., 0., 0., 0., 0., 0., 0., 0., 0.],\n",
        "         [0., 0., 0., 0., 0., 0., 0., 0., 0., 0.]]),\n",
        "  'pi_s': array([[0, 0, 0, 0, 0, 0, 0, 0, 0, 0],\n",
        "         [0, 0, 0, 0, 0, 0, 0, 0, 0, 0],\n",
        "         [0, 0, 0, 0, 0, 0, 0, 0, 0, 0],\n",
        "         [0, 0, 0, 0, 0, 0, 0, 0, 0, 0],\n",
        "         [0, 0, 0, 0, 0, 0, 0, 0, 0, 0],\n",
        "         [0, 0, 0, 0, 0, 0, 0, 0, 0, 0],\n",
        "         [0, 0, 0, 0, 0, 0, 0, 0, 0, 0],\n",
        "         [0, 0, 0, 0, 0, 0, 0, 0, 0, 0],\n",
        "         [0, 0, 0, 0, 0, 0, 0, 0, 0, 0],\n",
        "         [0, 0, 0, 0, 0, 0, 0, 0, 0, 0]], dtype=int32)}\n",
        "```"
      ]
    },
    {
      "cell_type": "code",
      "metadata": {
        "id": "vLF4WYcrAx1r",
        "colab": {
          "base_uri": "https://localhost:8080/"
        },
        "outputId": "cd75acf9-f9e2-4c80-b680-f0246b88ce31"
      },
      "source": [
        "# DO NOT EDIT THIS CELL, DURING EVALUATION THE DATASET DIR WILL CHANGE\n",
        "!mkdir $AICROWD_RESULTS_DIR\n",
        "input_dir = os.path.join(DATASET_DIR, 'inputs')\n",
        "for params_file in os.listdir(input_dir):\n",
        "  kwargs = np.load(os.path.join(input_dir, params_file), allow_pickle=True).item()\n",
        "  env = GridEnv_HW2(**kwargs)\n",
        "  results, value_grids, policies = value_iter(env)\n",
        "  idx = params_file.split('_')[-1][:-4]\n",
        "  np.save(os.path.join(AICROWD_RESULTS_DIR, 'results_' + idx), results)"
      ],
      "execution_count": null,
      "outputs": [
        {
          "output_type": "stream",
          "text": [
            "mkdir: cannot create directory ‘results’: File exists\n"
          ],
          "name": "stdout"
        }
      ]
    },
    {
      "cell_type": "markdown",
      "metadata": {
        "id": "S8IVf3N9VuNZ"
      },
      "source": [
        "#Task 2 - The value iteration loop goes to infinity (refer the pseudocode given above), so when would you stop your value iteration?"
      ]
    },
    {
      "cell_type": "markdown",
      "metadata": {
        "id": "ahKp_WLoYFN_"
      },
      "source": [
        "Practically we can't allow the loop to run ot infinity. So, we assume convergence (i.e. Value Iteration has found the optimal cost and policy) has occured and stop the iteration when the maximum difference in value_grids' successive final iterations is below a tolerance value.(i.e. 1e-8 here) "
      ]
    },
    {
      "cell_type": "markdown",
      "metadata": {
        "id": "K2r-zLDhRVNp"
      },
      "source": [
        "# Task 3- Plot graph of $||J_{i+1}(s) - J_i(s)||$\n",
        "An example plot code is provided below, but you can change it if you want"
      ]
    },
    {
      "cell_type": "code",
      "metadata": {
        "id": "ZFXPt6m6RVNq",
        "colab": {
          "base_uri": "https://localhost:8080/",
          "height": 282
        },
        "outputId": "6312d895-ffb9-4200-e7d4-e21842f1c398"
      },
      "source": [
        "import matplotlib.pyplot as plt\n",
        "diffs = []\n",
        "for ii in range(len(value_grids)-1):\n",
        "    diff = np.linalg.norm(value_grids[ii+1] - value_grids[ii]) \n",
        "    diffs.append(diff)\n",
        "plt.plot(diffs)"
      ],
      "execution_count": null,
      "outputs": [
        {
          "output_type": "execute_result",
          "data": {
            "text/plain": [
              "[<matplotlib.lines.Line2D at 0x7fb6843514d0>]"
            ]
          },
          "metadata": {
            "tags": []
          },
          "execution_count": 44
        },
        {
          "output_type": "display_data",
          "data": {
            "image/png": "[encoded data removed]",
            "text/plain": [
              "<Figure size 432x288 with 1 Axes>"
            ]
          },
          "metadata": {
            "tags": [],
            "needs_background": "light"
          }
        }
      ]
    },
    {
      "cell_type": "markdown",
      "metadata": {
        "id": "tsEaK9L4RoZd"
      },
      "source": [
        "# Task 4 - Show $J(s)$ and $pi(s)$ after 10, 25 and final iteration. "
      ]
    },
    {
      "cell_type": "code",
      "metadata": {
        "id": "z0jPnRLvR-DF"
      },
      "source": [
        "# Use any visualization code you want to show the value and policies\n",
        "\n",
        "\n",
        "\n"
      ],
      "execution_count": null,
      "outputs": []
    },
    {
      "cell_type": "markdown",
      "metadata": {
        "id": "NaE7G1FOSLhD"
      },
      "source": [
        "# Task 5 - Consider a new gridworld (GridWorld-2) as shown Figure 2 (GridWorld-2 differ from GridWorld-1 only in the position of the “Goal” state). Compare and contrast the behavior of J and greedy policy π for GridWorld-1 and GridWorld-2\n"
      ]
    },
    {
      "cell_type": "markdown",
      "metadata": {
        "id": "Cyik1NmZYC5s"
      },
      "source": [
        "Gridworld-1 has goal position at (9,9) and Gridworld-2 has goal position at (0,3). \n",
        "\n",
        "The trend of the rewards value around the goal location would be similar in both the cases. The optimal J would be zero at goal_location in both the cases and it will be close to the value of terminal_reward around it and it decreases slowly as we spread across the states. \n",
        "\n",
        "When greedy policy is concerned, the optimal policies for both the gridworlds are drastically different owing to the position of the goal location in both the cases. Changing the goal location alone can impact the optimal action taken in states around it and hence we find such a difference in the optimal policy."
      ]
    },
    {
      "cell_type": "markdown",
      "metadata": {
        "id": "8pNWylwjjCT1"
      },
      "source": [
        "# Submit to AIcrowd 🚀"
      ]
    },
    {
      "cell_type": "code",
      "metadata": {
        "id": "AcCElHZnjDbI",
        "colab": {
          "base_uri": "https://localhost:8080/"
        },
        "outputId": "0fc5df19-3532-48cf-f7a1-f46694b862cb"
      },
      "source": [
        "!DATASET_PATH=$AICROWD_DATASET_PATH aicrowd notebook submit -c rl-vi -a assets"
      ],
      "execution_count": null,
      "outputs": [
        {
          "output_type": "stream",
          "text": [
            "Using notebook: /content/Copy%20of%20IITM_RL_VI_v1.ipynb for submission...\n",
            "Removing existing files from submission directory...\n",
            "Scrubbing API keys from the notebook...\n",
            "Collecting notebook...\n",
            "Validating the submission...\n",
            "Executing install.ipynb...\n",
            "[NbConvertApp] Converting notebook /content/submission/install.ipynb to notebook\n",
            "[NbConvertApp] Executing notebook with kernel: python3\n",
            "[NbConvertApp] Writing 1724 bytes to /content/submission/install.nbconvert.ipynb\n",
            "Executing predict.ipynb...\n",
            "[NbConvertApp] Converting notebook /content/submission/predict.ipynb to notebook\n",
            "[NbConvertApp] Executing notebook with kernel: python3\n",
            "[NbConvertApp] ERROR | unhandled iopub msg: colab_request\n",
            "[NbConvertApp] ERROR | unhandled iopub msg: colab_request\n",
            "[NbConvertApp] ERROR | unhandled iopub msg: colab_request\n",
            "[NbConvertApp] ERROR | unhandled iopub msg: colab_request\n",
            "[NbConvertApp] ERROR | unhandled iopub msg: colab_request\n",
            "[NbConvertApp] ERROR | unhandled iopub msg: colab_request\n",
            "[NbConvertApp] ERROR | unhandled iopub msg: colab_request\n",
            "[NbConvertApp] ERROR | unhandled iopub msg: colab_request\n",
            "[NbConvertApp] ERROR | unhandled iopub msg: colab_request\n",
            "[NbConvertApp] ERROR | unhandled iopub msg: colab_request\n",
            "[NbConvertApp] ERROR | unhandled iopub msg: colab_request\n",
            "[NbConvertApp] ERROR | unhandled iopub msg: colab_request\n",
            "[NbConvertApp] Writing 40363 bytes to /content/submission/predict.nbconvert.ipynb\n",
            "\u001b[2K\u001b[1;34msubmission.zip\u001b[0m \u001b[90m━━━━━━━━━━━━━━━━━━━━\u001b[0m \u001b[35m100.0%\u001b[0m • \u001b[32m60.0/58.3 KB\u001b[0m • \u001b[31m339.9 kB/s\u001b[0m • \u001b[36m0:00:00\u001b[0m\n",
            "\u001b[?25h                                   ╭─────────────────────────╮                                    \n",
            "                                   │ \u001b[1mSuccessfully submitted!\u001b[0m │                                    \n",
            "                                   ╰─────────────────────────╯                                    \n",
            "\u001b[3m                                         Important links                                          \u001b[0m\n",
            "┌──────────────────┬─────────────────────────────────────────────────────────────────────────────┐\n",
            "│  This submission │ https://www.aicrowd.com/challenges/rliitm-1/submissions/126693              │\n",
            "│                  │                                                                             │\n",
            "│  All submissions │ https://www.aicrowd.com/challenges/rliitm-1/submissions?my_submissions=true │\n",
            "│                  │                                                                             │\n",
            "│      Leaderboard │ https://www.aicrowd.com/challenges/rliitm-1/leaderboards                    │\n",
            "│                  │                                                                             │\n",
            "│ Discussion forum │ https://discourse.aicrowd.com/c/rliitm-1                                    │\n",
            "│                  │                                                                             │\n",
            "│   Challenge page │ https://www.aicrowd.com/challenges/rliitm-1                                 │\n",
            "└──────────────────┴─────────────────────────────────────────────────────────────────────────────┘\n"
          ],
          "name": "stdout"
        }
      ]
    },
    {
      "cell_type": "code",
      "metadata": {
        "id": "AQIQi6-bMH8Q"
      },
      "source": [
        ""
      ],
      "execution_count": null,
      "outputs": []
    }
  ]
}
