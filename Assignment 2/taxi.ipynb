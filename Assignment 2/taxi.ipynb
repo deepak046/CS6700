{
  "nbformat": 4,
  "nbformat_minor": 0,
  "metadata": {
    "language_info": {
      "codemirror_mode": {
        "name": "ipython",
        "version": 3
      },
      "file_extension": ".py",
      "mimetype": "text/x-python",
      "name": "python",
      "nbconvert_exporter": "python",
      "pygments_lexer": "ipython3",
      "version": "3.8.8-final"
    },
    "orig_nbformat": 2,
    "kernelspec": {
      "name": "python3",
      "display_name": "Python 3.8.8 64-bit ('torch': conda)",
      "metadata": {
        "interpreter": {
          "hash": "d8957633bcb1ab41d2dfd9b11a55d25ae2b194ad0d644559562952e6e1dd74ed"
        }
      }
    },
    "colab": {
      "name": "Copy of IITM_Assignment_2_Taxi_Release.ipynb",
      "provenance": [],
      "collapsed_sections": []
    }
  },
  "cells": [
    {
      "cell_type": "markdown",
      "metadata": {
        "id": "OPHFJWwR7HNC"
      },
      "source": [
        "# What is the notebook about?\n",
        "\n",
        "## Problem - Taxi Environment Algorithms\n",
        "This problem deals with a taxi environment and stochastic actions. The tasks you have to do are:\n",
        "- Implement Policy Iteration\n",
        "- Implement Modified Policy Iteration\n",
        "- Implement Value Iteration\n",
        "- Implement Gauss Seidel Value Iteration\n",
        "- Visualize the results\n",
        "- Explain the results\n",
        "\n",
        "## How to use this notebook? 📝\n",
        "\n",
        "- This is a shared template and any edits you make here will not be saved.**You\n",
        "should make a copy in your own drive**. Click the \"File\" menu (top-left), then \"Save a Copy in Drive\". You will be working in your copy however you like.\n",
        "\n",
        "- **Update the config parameters**. You can define the common variables here\n",
        "\n",
        "Variable | Description\n",
        "--- | ---\n",
        "`AICROWD_DATASET_PATH` | Path to the file containing test data. This should be an absolute path.\n",
        "`AICROWD_RESULTS_DIR` | Path to write the output to.\n",
        "`AICROWD_ASSETS_DIR` | In case your notebook needs additional files (like model weights, etc.,), you can add them to a directory and specify the path to the directory here (please specify relative path). The contents of this directory will be sent to AIcrowd for evaluation.\n",
        "`AICROWD_API_KEY` | In order to submit your code to AIcrowd, you need to provide your account's API key. This key is available at https://www.aicrowd.com/participants/me\n",
        "\n",
        "- **Installing packages**. Please use the [Install packages 🗃](#install-packages-) section to install the packages"
      ]
    },
    {
      "cell_type": "markdown",
      "metadata": {
        "id": "pRetoO_9OQIs"
      },
      "source": [
        ""
      ]
    },
    {
      "cell_type": "markdown",
      "metadata": {
        "id": "ptuVBElL7a_Q"
      },
      "source": [
        "# Setup AIcrowd Utilities 🛠\n",
        "\n",
        "We use this to bundle the files for submission and create a submission on AIcrowd. Do not edit this block."
      ]
    },
    {
      "cell_type": "code",
      "metadata": {
        "id": "tNJf2Sbr7SJi"
      },
      "source": [
        "!pip install aicrowd-cli > /dev/null "
      ],
      "execution_count": null,
      "outputs": []
    },
    {
      "cell_type": "markdown",
      "metadata": {
        "id": "rFWOq2qu7b82"
      },
      "source": [
        "# AIcrowd Runtime Configuration 🧷\n",
        "\n",
        "Get login API key from https://www.aicrowd.com/participants/me"
      ]
    },
    {
      "cell_type": "code",
      "metadata": {
        "id": "biiQDqp87PJ-"
      },
      "source": [
        "import os\n",
        "\n",
        "AICROWD_DATASET_PATH = os.getenv(\"DATASET_PATH\", os.getcwd()+\"/13d77bb0-b325-4e95-a03b-833eb6694acd_a2_taxi_inputs.zip\")\n",
        "AICROWD_RESULTS_DIR = os.getenv(\"OUTPUTS_DIR\", \"results\")\n",
        "API_KEY = \"a98ef81b017008edad014f38a0bb30ae\" # Get your key from https://www.aicrowd.com/participants/me"
      ],
      "execution_count": null,
      "outputs": []
    },
    {
      "cell_type": "code",
      "metadata": {
        "id": "-JCfa_Ee7h66",
        "colab": {
          "base_uri": "https://localhost:8080/"
        },
        "outputId": "daf39119-cdf9-4729-c2dd-3194ae2a8ffa"
      },
      "source": [
        "!aicrowd login --api-key $API_KEY\n",
        "!aicrowd dataset download -c iit-m-rl-assignment-2-taxi"
      ],
      "execution_count": null,
      "outputs": [
        {
          "output_type": "stream",
          "text": [
            "\u001b[32mAPI Key valid\u001b[0m\n",
            "\u001b[32mSaved API Key successfully!\u001b[0m\n",
            "13d77bb0-b325-4e95-a03b-833eb6694acd_a2_taxi_inputs.zip: 100% 31.2k/31.2k [00:00<00:00, 221kB/s]\n"
          ],
          "name": "stdout"
        }
      ]
    },
    {
      "cell_type": "code",
      "metadata": {
        "id": "pqcOVqMs8x02",
        "colab": {
          "base_uri": "https://localhost:8080/"
        },
        "outputId": "05627f39-d473-47d9-c87d-eeb42b21b01b"
      },
      "source": [
        "!unzip $AICROWD_DATASET_PATH"
      ],
      "execution_count": null,
      "outputs": [
        {
          "output_type": "stream",
          "text": [
            "Archive:  /content/13d77bb0-b325-4e95-a03b-833eb6694acd_a2_taxi_inputs.zip\n",
            "   creating: inputs/\n",
            "  inflating: inputs/inputs_base.npy  \n",
            "  inflating: inputs/inputs_1.npy     \n",
            "  inflating: inputs/inputs_0.npy     \n",
            "  inflating: inputs/inputs_2.npy     \n",
            "   creating: targets/\n",
            "  inflating: targets/targets_2.npy   \n",
            "  inflating: targets/targets_0.npy   \n",
            "  inflating: targets/targets_1.npy   \n",
            "  inflating: targets/targets_base.npy  \n"
          ],
          "name": "stdout"
        }
      ]
    },
    {
      "cell_type": "code",
      "metadata": {
        "id": "2YcYZKhw8z4m"
      },
      "source": [
        "DATASET_DIR = 'inputs/'"
      ],
      "execution_count": null,
      "outputs": []
    },
    {
      "cell_type": "markdown",
      "metadata": {
        "id": "bRjIX2e57HNG"
      },
      "source": [
        "## Taxi Environment\n",
        "\n",
        "Read the environment to understand the functions, but do not edit anything"
      ]
    },
    {
      "cell_type": "code",
      "metadata": {
        "id": "aq4-ItQk7HNH"
      },
      "source": [
        "import numpy as np\n",
        "from copy import deepcopy\n",
        "\n",
        "class TaxiEnv_HW2:\n",
        "    def __init__(self, states, actions, probabilities, rewards, initial_policy):\n",
        "        self.possible_states = states\n",
        "        self._possible_actions = {st: ac for st, ac in zip(states, actions)}\n",
        "        self._ride_probabilities = {st: pr for st, pr in zip(states, probabilities)}\n",
        "        self._ride_rewards = {st: rw for st, rw in zip(states, rewards)}\n",
        "        self.initial_policy = initial_policy\n",
        "        self._verify()\n",
        "\n",
        "    def _check_state(self, state):\n",
        "        assert state in self.possible_states, \"State %s is not a valid state\" % state\n",
        "\n",
        "    def _verify(self):\n",
        "        \"\"\" \n",
        "        Verify that data conditions are met:\n",
        "        Number of actions matches shape of next state and actions\n",
        "        Every probability distribution adds up to 1 \n",
        "        \"\"\"\n",
        "        ns = len(self.possible_states)\n",
        "        for state in self.possible_states:\n",
        "            ac = self._possible_actions[state]\n",
        "            na = len(ac)\n",
        "\n",
        "            rp = self._ride_probabilities[state]\n",
        "            assert np.all(rp.shape == (na, ns)), \"Probabilities shape mismatch\"\n",
        "        \n",
        "            rr = self._ride_rewards[state]\n",
        "            assert np.all(rr.shape == (na, ns)), \"Rewards shape mismatch\"\n",
        "\n",
        "            assert np.allclose(rp.sum(axis=1), 1), \"Probabilities don't add up to 1\"\n",
        "\n",
        "    def possible_actions(self, state):\n",
        "        \"\"\" Return all possible actions from a given state \"\"\"\n",
        "        self._check_state(state)\n",
        "        return self._possible_actions[state]\n",
        "\n",
        "    def ride_probabilities(self, state, action):\n",
        "        \"\"\" \n",
        "        Returns all possible ride probabilities from a state for a given action\n",
        "        For every action a list with the returned with values in the same order as self.possible_states\n",
        "        \"\"\"\n",
        "        actions = self.possible_actions(state)\n",
        "        ac_idx = actions.index(action)\n",
        "        return self._ride_probabilities[state][ac_idx]\n",
        "\n",
        "    def ride_rewards(self, state, action):\n",
        "        actions = self.possible_actions(state)\n",
        "        ac_idx = actions.index(action)\n",
        "        return self._ride_rewards[state][ac_idx]"
      ],
      "execution_count": null,
      "outputs": []
    },
    {
      "cell_type": "markdown",
      "metadata": {
        "id": "KCibTtAz7HNH"
      },
      "source": [
        "## Example of Environment usage"
      ]
    },
    {
      "cell_type": "code",
      "metadata": {
        "id": "OHOhT4UQ7HNI",
        "colab": {
          "base_uri": "https://localhost:8080/"
        },
        "outputId": "3111beac-ee5d-45a6-a56b-8a5170ee99b7"
      },
      "source": [
        "def check_taxienv():\n",
        "    # These are the values as used in the pdf, but they may be changed during submission, so do not hardcode anything\n",
        "\n",
        "    states = ['A', 'B', 'C']\n",
        "\n",
        "    actions = [['1','2','3'], ['1','2'], ['1','2','3']]\n",
        "\n",
        "    probs = [np.array([[1/2,  1/4,  1/4],\n",
        "                    [1/16, 3/4,  3/16],\n",
        "                    [1/4,  1/8,  5/8]]),\n",
        "\n",
        "            np.array([[1/2,   0,     1/2],\n",
        "                    [1/16,  7/8,  1/16]]),\n",
        "\n",
        "            np.array([[1/4,  1/4,  1/2],\n",
        "                    [1/8,  3/4,  1/8],\n",
        "                    [3/4,  1/16, 3/16]]),]\n",
        "\n",
        "    rewards = [np.array([[10,  4,  8],\n",
        "                        [ 8,  2,  4],\n",
        "                        [ 4,  6,  4]]),\n",
        "\n",
        "            np.array([[14,  0, 18],\n",
        "                        [ 8, 16,  8]]),\n",
        "\n",
        "            np.array([[10,  2,  8],\n",
        "                        [6,   4,  2],\n",
        "                        [4,   0,  8]]),]\n",
        "    initial_policy = {'A': '1', 'B': '1', 'C': '1'}\n",
        "\n",
        "    env = TaxiEnv_HW2(states, actions, probs, rewards, initial_policy)\n",
        "    print(\"All possible states\", env.possible_states)\n",
        "    print(\"All possible actions from state B\", env.possible_actions('B'))\n",
        "    print(\"Ride probabilities from state A with action 2\", env.ride_probabilities('A', '2'))\n",
        "    print(\"Ride rewards from state C with action 3\", env.ride_rewards('C', '3'))\n",
        "\n",
        "    base_kwargs = {\"states\": states, \"actions\": actions, \n",
        "                \"probabilities\": probs, \"rewards\": rewards,\n",
        "                \"initial_policy\": initial_policy}\n",
        "    return base_kwargs\n",
        "\n",
        "base_kwargs = check_taxienv()\n",
        "env = TaxiEnv_HW2(**base_kwargs)"
      ],
      "execution_count": null,
      "outputs": [
        {
          "output_type": "stream",
          "text": [
            "All possible states ['A', 'B', 'C']\n",
            "All possible actions from state B ['1', '2']\n",
            "Ride probabilities from state A with action 2 [0.0625 0.75   0.1875]\n",
            "Ride rewards from state C with action 3 [4 0 8]\n"
          ],
          "name": "stdout"
        }
      ]
    },
    {
      "cell_type": "markdown",
      "metadata": {
        "id": "ANj-Soeb7HNI"
      },
      "source": [
        "## Task 1 - Policy Iteration\n",
        "Run policy iteration on the environment and generate the policy and expected reward"
      ]
    },
    {
      "cell_type": "code",
      "metadata": {
        "tags": [],
        "id": "SArJ5e0a7HNI"
      },
      "source": [
        "# 1.1 Policy Iteration\n",
        "def policy_iteration(taxienv, gamma):\n",
        "    # A list of all the states\n",
        "    states = taxienv.possible_states\n",
        "    # Initial values\n",
        "    values = {s: 0 for s in states}\n",
        "\n",
        "    # This is a dictionary of states to policies -> e.g {'A': '1', 'B': '2', 'C': '1'}\n",
        "    policy = taxienv.initial_policy.copy()\n",
        "\n",
        "    ## Begin code here\n",
        "\n",
        "    # Hints - \n",
        "    # Do not hardcode anything\n",
        "    # Only the final result is required for the results\n",
        "    # Put any extra data in \"extra_info\" dictonary for any plots etc\n",
        "    # Use the helper functions taxienv.ride_rewards, taxienv.ride_probabilities,  taxienv.possible_actions\n",
        "    # For terminating condition use the condition exactly mentioned in the pdf\n",
        "    a = 0\n",
        "    c = 0\n",
        "    J = {}\n",
        "    done = 0\n",
        "    #while a < 1:\n",
        "    while done == 0:\n",
        "      done = 1\n",
        "      #\"\"\"\n",
        "      while True:\n",
        "      #while c == 0:\n",
        "        delta = deepcopy(np.NINF)\n",
        "        val = {}\n",
        "        for i in states:\n",
        "          prob = deepcopy(taxienv.ride_probabilities(i, policy[i]))\n",
        "          rew = deepcopy(taxienv.ride_rewards(i, policy[i]))\n",
        "          J[i] = deepcopy(values[i])\n",
        "          val[i] = deepcopy( sum([ (prob[states.index(j)])*( rew[states.index(j)] + gamma*values[j] ) for j in states ]) )\n",
        "          delta = deepcopy( max(delta, np.abs(J[i]-val[i])) )\n",
        "        for i in states:\n",
        "          values[i] = deepcopy(val[i])\n",
        "        #c = 1\n",
        "        if delta < 1e-8:\n",
        "          break\n",
        "      #\"\"\"    \n",
        "\n",
        "\n",
        "      val = {}\n",
        "      b = {}\n",
        "      #print(\"Hi0\")\n",
        "      for i in states:\n",
        "        val2 = deepcopy(np.NINF)\n",
        "        val1 = 0\n",
        "        b[i] = deepcopy(policy[i])\n",
        "        #print(\"Hi1\")\n",
        "        for j in taxienv.possible_actions(i):\n",
        "          prob1 = deepcopy(taxienv.ride_probabilities(i, j))\n",
        "          rew1 = deepcopy(taxienv.ride_rewards(i, j))\n",
        "          val1 = deepcopy( sum([ (prob1[states.index(k)])*( rew1[states.index(k)] + gamma*values[k] ) for k in states ]) )\n",
        "          #print(\"Hi2\") \n",
        "          \"\"\"if val2 == val1:\n",
        "            #print(\"Hi3\")\n",
        "            continue \"\"\"\n",
        "          if val2 < val1:\n",
        "            #print(\"hi5\")\n",
        "            policy[i] = deepcopy(j)\n",
        "          val2 = deepcopy( max(val2, val1) )\n",
        "          #print(\"Hi4\")\n",
        "\n",
        "        #print(\"Hi6\")\n",
        "        val[i] = deepcopy(val2)\n",
        "\n",
        "\n",
        "        #a = a + 1\n",
        "\n",
        "      for i in states:\n",
        "        values[i] = deepcopy(val[i])\n",
        "      for i in states:  \n",
        "        if b[i] != policy[i]:\n",
        "          done = 0\n",
        "\n",
        "\n",
        "    # Put your extra information needed for plots etc in this dictionary\n",
        "    extra_info = {}\n",
        "    extra_info[\"Expected Reward\"] = values\n",
        "    extra_info[\"Policy\"] = policy\n",
        "\n",
        "    ## Do not edit below this line\n",
        "\n",
        "    # Final results\n",
        "    return {\"Expected Reward\": values, \"Policy\": policy}, extra_info"
      ],
      "execution_count": null,
      "outputs": []
    },
    {
      "cell_type": "markdown",
      "metadata": {
        "id": "K6K2tWrK_wlL"
      },
      "source": [
        "# Task 2 - Policy Iteration for multiple values of gamma\n",
        "\n",
        "Ideally this code should run as is"
      ]
    },
    {
      "cell_type": "code",
      "metadata": {
        "id": "CTR9RLWc7HNJ",
        "colab": {
          "base_uri": "https://localhost:8080/"
        },
        "outputId": "4fff9219-21e0-4b03-aa6a-90f5e8872f0b"
      },
      "source": [
        "# 1.2 Policy Iteration with different values of gamma\n",
        "def run_policy_iteration(env):\n",
        "    gamma_values = np.arange(5, 100, 5)/100\n",
        "    results, extra_info = {}, {}\n",
        "    for gamma in gamma_values:\n",
        "        results[gamma], extra_info[gamma] = policy_iteration(env, gamma)\n",
        "    return results, extra_info\n",
        "\n",
        "results, extra_info = run_policy_iteration(env)\n",
        "\n",
        "results, extra_info = run_policy_iteration(env)\n",
        "gamma_values = np.arange(5, 100, 5)/100\n",
        "for gamma in gamma_values:\n",
        "  print(\"gamma :\", gamma)\n",
        "  print(results[gamma])"
      ],
      "execution_count": null,
      "outputs": [
        {
          "output_type": "stream",
          "text": [
            "gamma : 0.05\n",
            "{'Expected Reward': {'A': 8.511527294541914, 'B': 16.400259909012924, 'C': 7.498869066693811}, 'Policy': {'A': '1', 'B': '1', 'C': '1'}}\n",
            "gamma : 0.1\n",
            "{'Expected Reward': {'A': 9.076506149574659, 'B': 16.856368563583416, 'C': 8.050865123933633}, 'Policy': {'A': '1', 'B': '1', 'C': '1'}}\n",
            "gamma : 0.15\n",
            "{'Expected Reward': {'A': 9.708121493060538, 'B': 17.46450304254513, 'C': 8.6691604540995}, 'Policy': {'A': '1', 'B': '2', 'C': '1'}}\n",
            "gamma : 0.2\n",
            "{'Expected Reward': {'A': 10.437030074904103, 'B': 18.482142856858125, 'C': 9.384398495956734}, 'Policy': {'A': '1', 'B': '2', 'C': '1'}}\n",
            "gamma : 0.25\n",
            "{'Expected Reward': {'A': 11.274074073453669, 'B': 19.629629629008505, 'C': 10.207407406787004}, 'Policy': {'A': '1', 'B': '2', 'C': '1'}}\n",
            "gamma : 0.3\n",
            "{'Expected Reward': {'A': 12.243837243440458, 'B': 20.934065933669043, 'C': 11.162756162359376}, 'Policy': {'A': '1', 'B': '2', 'C': '1'}}\n",
            "gamma : 0.35\n",
            "{'Expected Reward': {'A': 13.378714435161033, 'B': 22.43076922968147, 'C': 12.28282402420213}, 'Policy': {'A': '1', 'B': '2', 'C': '1'}}\n",
            "gamma : 0.4\n",
            "{'Expected Reward': {'A': 14.722222220889503, 'B': 24.166666665333913, 'C': 13.611111109778392}, 'Policy': {'A': '1', 'B': '2', 'C': '1'}}\n",
            "gamma : 0.45\n",
            "{'Expected Reward': {'A': 16.33413126748861, 'B': 26.205533594494103, 'C': 15.207370704108325}, 'Policy': {'A': '1', 'B': '2', 'C': '1'}}\n",
            "gamma : 0.5\n",
            "{'Expected Reward': {'A': 18.29870129583835, 'B': 28.63636363350068, 'C': 17.155844152981203}, 'Policy': {'A': '1', 'B': '2', 'C': '1'}}\n",
            "gamma : 0.55\n",
            "{'Expected Reward': {'A': 20.789988635283624, 'B': 31.607396696950563, 'C': 19.83072521255465}, 'Policy': {'A': '1', 'B': '2', 'C': '2'}}\n",
            "gamma : 0.6\n",
            "{'Expected Reward': {'A': 24.025686440715006, 'B': 35.327723641777894, 'C': 23.458813101476746}, 'Policy': {'A': '1', 'B': '2', 'C': '2'}}\n",
            "gamma : 0.65\n",
            "{'Expected Reward': {'A': 28.276692063785987, 'B': 40.09628057888713, 'C': 28.12997878508807}, 'Policy': {'A': '1', 'B': '2', 'C': '2'}}\n",
            "gamma : 0.7\n",
            "{'Expected Reward': {'A': 34.06193076944058, 'B': 46.43541615789389, 'C': 34.36604100940256}, 'Policy': {'A': '1', 'B': '2', 'C': '2'}}\n",
            "gamma : 0.75\n",
            "{'Expected Reward': {'A': 42.31741138120004, 'B': 55.28505390816459, 'C': 43.10631739044503}, 'Policy': {'A': '1', 'B': '2', 'C': '2'}}\n",
            "gamma : 0.8\n",
            "{'Expected Reward': {'A': 55.07936504909022, 'B': 68.55820102792619, 'C': 56.269841239566404}, 'Policy': {'A': '2', 'B': '2', 'C': '2'}}\n",
            "gamma : 0.85\n",
            "{'Expected Reward': {'A': 77.24651209631487, 'B': 90.811700616993, 'C': 78.43345571649292}, 'Policy': {'A': '2', 'B': '2', 'C': '2'}}\n",
            "gamma : 0.9\n",
            "{'Expected Reward': {'A': 121.65347104770227, 'B': 135.30627544806896, 'C': 122.83690300036498}, 'Policy': {'A': '2', 'B': '2', 'C': '2'}}\n",
            "gamma : 0.95\n",
            "{'Expected Reward': {'A': 255.02290824974892, 'B': 268.7646183273656, 'C': 256.2028492526988}, 'Policy': {'A': '2', 'B': '2', 'C': '2'}}\n"
          ],
          "name": "stdout"
        }
      ]
    },
    {
      "cell_type": "markdown",
      "metadata": {
        "id": "-fLDL1D_ANAX"
      },
      "source": [
        "# Task 3 - Modifed Policy Iteration\n",
        "\n",
        "Implement modified policy iteration (where Value iteration is done for fixed m number of steps)"
      ]
    },
    {
      "cell_type": "code",
      "metadata": {
        "id": "cusnSLxm7HNJ"
      },
      "source": [
        "# 1.3 Modified Policy Iteration\n",
        "def modified_policy_iteration(taxienv, gamma, m):\n",
        "    # A list of all the states\n",
        "    states = taxienv.possible_states\n",
        "    # Initial values\n",
        "    values = {s: 0 for s in states}\n",
        "\n",
        "    # This is a dictionary of states to policies -> e.g {'A': '1', 'B': '2', 'C': '1'}\n",
        "    policy = taxienv.initial_policy.copy()\n",
        "\n",
        "    ## Begin code here\n",
        "\n",
        "    # Hints - \n",
        "    # Do not hardcode anything\n",
        "    # Only the final result is required for the results\n",
        "    # Put any extra data in \"extra_info\" dictonary for any plots etc\n",
        "    # Use the helper functions taxienv.ride_rewards, taxienv.ride_probabilities,  taxienv.possible_actions\n",
        "    # For terminating condition use the condition exactly mentioned in the pdf\n",
        "\n",
        "    \n",
        "    # Put your extra information needed for plots etc in this dictionary\n",
        "\n",
        "    a = 0\n",
        "    c = 0\n",
        "    J = {}\n",
        "    done = 0\n",
        "    #while a < 1:\n",
        "    while done == 0:\n",
        "      done = 1\n",
        "      \"\"\"\n",
        "      for k in range(0,m):\n",
        "      #while c == 0:\n",
        "        delta = deepcopy(np.NINF)\n",
        "        val = {}\n",
        "        for i in states:\n",
        "          prob = deepcopy(taxienv.ride_probabilities(i, policy[i]))\n",
        "          rew = deepcopy(taxienv.ride_rewards(i, policy[i]))\n",
        "          J[i] = deepcopy(values[i])\n",
        "          val[i] = deepcopy( sum([ (prob[states.index(j)])*( rew[states.index(j)] + gamma*values[j] ) for j in states ]) )\n",
        "          #delta = deepcopy( max(delta, np.abs(J[i]-val[i])) )\n",
        "        for i in states:\n",
        "          values[i] = deepcopy(val[i])\n",
        "        #c = 1\n",
        "        #if delta < 1e-8:\n",
        "          #break\n",
        "      \"\"\"    \n",
        "\n",
        "      for l in range(m):  \n",
        "        delta = deepcopy(np.NINF)\n",
        "        for i in states:\n",
        "            prob1 = deepcopy(taxienv.ride_probabilities(i, policy[i]))\n",
        "            rew1 = deepcopy(taxienv.ride_rewards(i, policy[i]))\n",
        "            J[i] = deepcopy( sum([ (prob1[states.index(j)])*( rew1[states.index(j)] + gamma*values[j] ) for j in states ]) )\n",
        "\n",
        "        for i in states:\n",
        "          values[i] = deepcopy(J[i])\n",
        "      \n",
        "      val = {}\n",
        "      b = {}\n",
        "      #print(\"Hi0\")\n",
        "      for i in states:\n",
        "        val2 = deepcopy(np.NINF)\n",
        "        val1 = 0\n",
        "        b[i] = deepcopy(policy[i])\n",
        "        #print(\"Hi1\")\n",
        "        for j in taxienv.possible_actions(i):\n",
        "          prob1 = deepcopy(taxienv.ride_probabilities(i, j))\n",
        "          rew1 = deepcopy(taxienv.ride_rewards(i, j))\n",
        "          val1 = deepcopy( sum([ (prob1[states.index(k)])*( rew1[states.index(k)] + gamma*values[k] ) for k in states ]) )\n",
        "          #print(\"Hi2\") \n",
        "          \"\"\"if val2 == val1:\n",
        "            #print(\"Hi3\")\n",
        "            continue \"\"\"\n",
        "          if val2 < val1:\n",
        "            #print(\"hi5\")\n",
        "            policy[i] = deepcopy(j)\n",
        "          val2 = deepcopy( max(val2, val1) )\n",
        "          #print(\"Hi4\")\n",
        "\n",
        "        #print(\"Hi6\")\n",
        "        val[i] = deepcopy(val2)\n",
        "\n",
        "\n",
        "        #a = a + 1\n",
        "\n",
        "      for i in states:\n",
        "        values[i] = deepcopy(val[i])\n",
        "      for i in states:  \n",
        "        if b[i] != policy[i]:\n",
        "          done = 0\n",
        "\n",
        "\n",
        "\n",
        "    \n",
        "    \n",
        "    extra_info = {}\n",
        "\n",
        "    ## Do not edit below this line\n",
        "\n",
        "\n",
        "    # Final results\n",
        "    return {\"Expected Reward\": values, \"Policy\": policy}, extra_info"
      ],
      "execution_count": null,
      "outputs": []
    },
    {
      "cell_type": "markdown",
      "metadata": {
        "id": "Ri209oMmArAJ"
      },
      "source": [
        "# Task 4 Modified policy iteration for multiple values of m\n",
        "\n",
        "Ideally this code should run as is"
      ]
    },
    {
      "cell_type": "code",
      "metadata": {
        "id": "NCdvj8oT7HNK",
        "colab": {
          "base_uri": "https://localhost:8080/"
        },
        "outputId": "5674e847-0f32-46c5-e641-7b1f5b9a438c"
      },
      "source": [
        "def run_modified_policy_iteration(env):\n",
        "    m_values = np.arange(1, 15)\n",
        "    gamma = 0.9\n",
        "    results, extra_info = {}, {}\n",
        "    for m in m_values:\n",
        "        results[m], extra_info[m] = modified_policy_iteration(env, gamma, m)\n",
        "    return results, extra_info\n",
        "\n",
        "results, extra_info = run_modified_policy_iteration(env)\n",
        "\n",
        "m_values = np.arange(1,15)\n",
        "for m in m_values:\n",
        "  print(\"m :\", m)\n",
        "  print(results[m])"
      ],
      "execution_count": null,
      "outputs": [
        {
          "output_type": "stream",
          "text": [
            "m : 1\n",
            "{'Expected Reward': {'A': 51.65324538936615, 'B': 65.3058853320694, 'C': 52.836659570999146}, 'Policy': {'A': '2', 'B': '2', 'C': '2'}}\n",
            "m : 2\n",
            "{'Expected Reward': {'A': 68.33458286289239, 'B': 81.98741862025872, 'C': 69.5180211304278}, 'Policy': {'A': '2', 'B': '2', 'C': '2'}}\n",
            "m : 3\n",
            "{'Expected Reward': {'A': 81.40917614736257, 'B': 95.06198699305824, 'C': 82.59260751614613}, 'Policy': {'A': '2', 'B': '2', 'C': '2'}}\n",
            "m : 4\n",
            "{'Expected Reward': {'A': 91.09772027266358, 'B': 104.75052562822177, 'C': 92.28115226304595}, 'Policy': {'A': '2', 'B': '2', 'C': '2'}}\n",
            "m : 5\n",
            "{'Expected Reward': {'A': 98.3983147469629, 'B': 112.05111925826964, 'C': 99.58174669738581}, 'Policy': {'A': '2', 'B': '2', 'C': '2'}}\n",
            "m : 6\n",
            "{'Expected Reward': {'A': 103.89548289701366, 'B': 117.54828731048154, 'C': 105.07891484980514}, 'Policy': {'A': '2', 'B': '2', 'C': '2'}}\n",
            "m : 7\n",
            "{'Expected Reward': {'A': 108.0493538262206, 'B': 121.702158228064, 'C': 109.23278577887602}, 'Policy': {'A': '2', 'B': '2', 'C': '2'}}\n",
            "m : 8\n",
            "{'Expected Reward': {'A': 111.19632510522396, 'B': 124.84912950575844, 'C': 112.37975705788709}, 'Policy': {'A': '2', 'B': '2', 'C': '2'}}\n",
            "m : 9\n",
            "{'Expected Reward': {'A': 113.58747944378203, 'B': 127.24028384416759, 'C': 114.77091139644472}, 'Policy': {'A': '2', 'B': '2', 'C': '2'}}\n",
            "m : 10\n",
            "{'Expected Reward': {'A': 115.40976262570172, 'B': 129.06256702607055, 'C': 116.59319457836445}, 'Policy': {'A': '2', 'B': '2', 'C': '2'}}\n",
            "m : 11\n",
            "{'Expected Reward': {'A': 116.80281251678291, 'B': 130.45561691714985, 'C': 117.98624446944562}, 'Policy': {'A': '2', 'B': '2', 'C': '2'}}\n",
            "m : 12\n",
            "{'Expected Reward': {'A': 117.87112598286802, 'B': 131.52393038323478, 'C': 119.05455793553074}, 'Policy': {'A': '2', 'B': '2', 'C': '2'}}\n",
            "m : 13\n",
            "{'Expected Reward': {'A': 118.69308232152575, 'B': 132.34588672189244, 'C': 119.87651427418845}, 'Policy': {'A': '2', 'B': '2', 'C': '2'}}\n",
            "m : 14\n",
            "{'Expected Reward': {'A': 119.3276075409437, 'B': 132.98041194131042, 'C': 120.51103949360643}, 'Policy': {'A': '2', 'B': '2', 'C': '2'}}\n"
          ],
          "name": "stdout"
        }
      ]
    },
    {
      "cell_type": "markdown",
      "metadata": {
        "id": "GtzMS2mLA47d"
      },
      "source": [
        "# Task 5 Value Iteration\n",
        "\n",
        "Implement value iteration and find the policy and expected rewards"
      ]
    },
    {
      "cell_type": "code",
      "metadata": {
        "id": "WscmNpRA7HNK"
      },
      "source": [
        "# 1.4 Value Iteration\n",
        "def value_iteration(taxienv, gamma):\n",
        "    # A list of all the states\n",
        "    states = taxienv.possible_states\n",
        "    # Initial values\n",
        "    values = {s: 0 for s in states}\n",
        "\n",
        "    # This is a dictionary of states to policies -> e.g {'A': '1', 'B': '2', 'C': '1'}\n",
        "    policy = taxienv.initial_policy.copy()\n",
        "\n",
        "    ## Begin code here\n",
        "\n",
        "    # Hints - \n",
        "    # Do not hardcode anything\n",
        "    # Only the final result is required for the results\n",
        "    # Put any extra data in \"extra_info\" dictonary for any plots etc\n",
        "    # Use the helper functions taxienv.ride_rewards, taxienv.ride_probabilities,  taxienv.possible_actions\n",
        "    # For terminating condition use the condition exactly mentioned in the pdf\n",
        "\n",
        "\n",
        "    J = {}\n",
        "    done = 1\n",
        "\n",
        "    while True:  \n",
        "      delta = deepcopy(np.NINF)\n",
        "      for i in states:\n",
        "        val = deepcopy(np.NINF)\n",
        "        val1 = 0\n",
        "        for j in taxienv.possible_actions(i):\n",
        "          prob1 = deepcopy(taxienv.ride_probabilities(i, j))\n",
        "          rew1 = deepcopy(taxienv.ride_rewards(i, j))\n",
        "          val1 = deepcopy( sum([ (prob1[states.index(k)])*( rew1[states.index(k)] + gamma*values[k] ) for k in states ]) )\n",
        "          \n",
        "          if val < val1:\n",
        "            policy[i] = deepcopy(j)\n",
        "          val = deepcopy( max(val, val1) )\n",
        "\n",
        "        J[i] = deepcopy(val)\n",
        "        \n",
        "        delta = deepcopy( max(delta, np.abs(J[i]-values[i])) )\n",
        "      \n",
        "      for i in states:\n",
        "        values[i] = deepcopy(J[i])\n",
        "      \n",
        "      \n",
        "      if delta < 1e-8:\n",
        "        break\n",
        "      \n",
        "\n",
        "    # Put your extra information needed for plots etc in this dictionary\n",
        "    extra_info = {}\n",
        "\n",
        "    ## Do not edit below this line\n",
        "\n",
        "    # Final results\n",
        "    return {\"Expected Reward\": values, \"Policy\": policy}, extra_info"
      ],
      "execution_count": null,
      "outputs": []
    },
    {
      "cell_type": "markdown",
      "metadata": {
        "id": "YzDEiVW5BCeH"
      },
      "source": [
        "# Task 6 Value Iteration with multiple values of gamma\n",
        "\n",
        "Ideally this code should run as is"
      ]
    },
    {
      "cell_type": "code",
      "metadata": {
        "id": "KOdCrkHk7HNK"
      },
      "source": [
        "def run_value_iteration(env):\n",
        "    gamma_values = np.arange(5, 100, 5)/100\n",
        "    results = {}\n",
        "    results, extra_info = {}, {}\n",
        "    for gamma in gamma_values:\n",
        "        results[gamma], extra_info[gamma] = value_iteration(env, gamma)\n",
        "    return results, extra_info\n",
        "  \n",
        "results, extra_info = run_value_iteration(env)"
      ],
      "execution_count": null,
      "outputs": []
    },
    {
      "cell_type": "markdown",
      "metadata": {
        "id": "ZFyuQU-SBh1Y"
      },
      "source": [
        "# Task 7 Gauss Seidel Value Iteration\n",
        "\n",
        "Implement Gauss Seidel Value Iteration"
      ]
    },
    {
      "cell_type": "code",
      "metadata": {
        "id": "5nR_Np9i7HNK"
      },
      "source": [
        "# 1.4 Gauss Seidel Value Iteration\n",
        "def gauss_seidel_value_iteration(taxienv, gamma):\n",
        "    # A list of all the states\n",
        "    # For Gauss Seidel Value Iteration - iterate through the values in the same order\n",
        "    states = taxienv.possible_states\n",
        "\n",
        "    # Initial values\n",
        "    values = {s: 0 for s in states}\n",
        "\n",
        "    # This is a dictionary of states to policies -> e.g {'A': '1', 'B': '2', 'C': '1'}\n",
        "    policy = taxienv.initial_policy.copy()\n",
        "\n",
        "    # Hints - \n",
        "    # Do not hardcode anything\n",
        "    # For Gauss Seidel Value Iteration - iterate through the values in the same order as taxienv.possible_states\n",
        "    # Only the final result is required for the results\n",
        "    # Put any extra data in \"extra_info\" dictonary for any plots etc\n",
        "    # Use the helper functions taxienv.ride_rewards, taxienv.ride_probabilities,  taxienv.possible_actions\n",
        "    # For terminating condition use the condition exactly mentioned in the pdf\n",
        "\n",
        "    ## Begin code here\n",
        "\n",
        "    J = {}\n",
        "    done = 1\n",
        "\n",
        "    while True:  \n",
        "      delta = deepcopy(np.NINF)\n",
        "      for i in states:\n",
        "        val = deepcopy(np.NINF)\n",
        "        val1 = 0\n",
        "        for j in taxienv.possible_actions(i):\n",
        "          prob1 = deepcopy(taxienv.ride_probabilities(i, j))\n",
        "          rew1 = deepcopy(taxienv.ride_rewards(i, j))\n",
        "          J[i] = deepcopy(values[i])\n",
        "          val1 = deepcopy( sum([ (prob1[states.index(k)])*( rew1[states.index(k)] + gamma*values[k] ) for k in states ]) )\n",
        "\n",
        "          if val < val1:\n",
        "            policy[i] = deepcopy(j)\n",
        "          val = deepcopy( max(val, val1) )\n",
        "        values[i] = deepcopy(val)\n",
        "        \n",
        "        delta = deepcopy( max(delta, np.abs(J[i]-values[i]))  )  \n",
        "      \n",
        "      if delta < 1e-8:\n",
        "        break\n",
        "      \n",
        "    # Put your extra information needed for plots etc in this dictionary\n",
        "    extra_info = {}\n",
        "\n",
        "    ## Do not edit below this line\n",
        "\n",
        "    # Final results\n",
        "    return {\"Expected Reward\": values, \"Policy\": policy}, extra_info"
      ],
      "execution_count": null,
      "outputs": []
    },
    {
      "cell_type": "markdown",
      "metadata": {
        "id": "rb5-lVMnBrPs"
      },
      "source": [
        "# Task 8 Gauss Seidel Value Iteration with multiple values of gamma\n",
        "\n",
        "Ideally this code should run as is"
      ]
    },
    {
      "cell_type": "code",
      "metadata": {
        "id": "S0PYuArr7HNL"
      },
      "source": [
        "def run_gauss_seidel_value_iteration(env):\n",
        "    gamma_values = np.arange(5, 100, 5)/100\n",
        "    results = {}\n",
        "    results, extra_info = {}, {}\n",
        "    for gamma in gamma_values:\n",
        "        results[gamma], extra_info[gamma] = gauss_seidel_value_iteration(env, gamma)\n",
        "    return results, extra_info\n",
        "\n",
        "results, extra_info = run_gauss_seidel_value_iteration(env)\n"
      ],
      "execution_count": null,
      "outputs": []
    },
    {
      "cell_type": "markdown",
      "metadata": {
        "id": "afr7dT1KB63X"
      },
      "source": [
        "# Generate Results ✅"
      ]
    },
    {
      "cell_type": "code",
      "metadata": {
        "id": "oMAslLVs7HNL"
      },
      "source": [
        "# Do not edit this cell\n",
        "def get_results(kwargs):\n",
        "\n",
        "    taxienv = TaxiEnv_HW2(**kwargs)\n",
        "\n",
        "    policy_iteration_results = run_policy_iteration(taxienv)[0]\n",
        "    modified_policy_iteration_results = run_modified_policy_iteration(taxienv)[0]\n",
        "    value_iteration_results = run_value_iteration(taxienv)[0]\n",
        "    gs_vi_results = run_gauss_seidel_value_iteration(taxienv)[0]\n",
        "\n",
        "    final_results = {}\n",
        "    final_results[\"policy_iteration\"] = policy_iteration_results\n",
        "    final_results[\"modifed_policy_iteration\"] = modified_policy_iteration_results\n",
        "    final_results[\"value_iteration\"] = value_iteration_results\n",
        "    final_results[\"gauss_seidel_iteration\"] = gs_vi_results\n",
        "\n",
        "    return final_results"
      ],
      "execution_count": null,
      "outputs": []
    },
    {
      "cell_type": "code",
      "metadata": {
        "id": "vGaLk-KC7HNM"
      },
      "source": [
        "# Do not edit this cell, generate results with it as is\n",
        "if not os.path.exists(AICROWD_RESULTS_DIR):\n",
        "    os.mkdir(AICROWD_RESULTS_DIR)\n",
        "\n",
        "for params_file in os.listdir(DATASET_DIR):\n",
        "  kwargs = np.load(os.path.join(DATASET_DIR, params_file), allow_pickle=True).item()\n",
        "  results = get_results(kwargs)\n",
        "  idx = params_file.split('_')[-1][:-4]\n",
        "  np.save(os.path.join(AICROWD_RESULTS_DIR, 'results_' + idx), results)"
      ],
      "execution_count": null,
      "outputs": []
    },
    {
      "cell_type": "markdown",
      "metadata": {
        "id": "dE60K0ykB9o4"
      },
      "source": [
        "# Check your local score\n",
        "\n",
        "This score is not your final score, and it doesn't use the marks weightages. This is only for your reference of how arrays are matched and with what tolerance."
      ]
    },
    {
      "cell_type": "code",
      "metadata": {
        "id": "KvyPuaJu7HNM",
        "colab": {
          "base_uri": "https://localhost:8080/"
        },
        "outputId": "78689e5f-12bf-42f6-b820-78cef351b48a"
      },
      "source": [
        "# Check your score on the given test cases (There are more private test cases not provided)\n",
        "target_folder = 'targets'\n",
        "result_folder = AICROWD_RESULTS_DIR\n",
        "\n",
        "def check_algo_match(results, targets):\n",
        "    param_matches = []\n",
        "    for k in results:\n",
        "        param_results = results[k]\n",
        "        param_targets = targets[k]\n",
        "        policy_match = param_results['Policy'] == param_targets['Policy']\n",
        "        rv = [v for k, v in param_results['Expected Reward'].items()]\n",
        "        tv = [v for k, v in param_targets['Expected Reward'].items()]\n",
        "        rewards_match = np.allclose(rv, tv, rtol=3)\n",
        "        equal = rewards_match and policy_match\n",
        "        param_matches.append(equal)\n",
        "    return np.mean(param_matches)\n",
        "\n",
        "def check_score(target_folder, result_folder):\n",
        "    match = []\n",
        "    for out_file in os.listdir(result_folder):\n",
        "        res_file = os.path.join(result_folder, out_file)\n",
        "        results = np.load(res_file, allow_pickle=True).item()\n",
        "        idx = out_file.split('_')[-1][:-4]  # Extract the file number\n",
        "        target_file = os.path.join(target_folder, f\"targets_{idx}.npy\")\n",
        "        targets = np.load(target_file, allow_pickle=True).item()\n",
        "        algo_match = []\n",
        "        for k in targets:\n",
        "            algo_results = results[k]\n",
        "            algo_targets = targets[k]\n",
        "            algo_match.append(check_algo_match(algo_results, algo_targets))\n",
        "        match.append(np.mean(algo_match))\n",
        "    return np.mean(match)\n",
        "\n",
        "if os.path.exists(target_folder):\n",
        "    print(\"Shared data Score (normalized to 1):\", check_score(target_folder, result_folder))"
      ],
      "execution_count": null,
      "outputs": [
        {
          "output_type": "stream",
          "text": [
            "Shared data Score (normalized to 1): 1.0\n"
          ],
          "name": "stdout"
        }
      ]
    },
    {
      "cell_type": "markdown",
      "metadata": {
        "id": "QB5dFvNgCtag"
      },
      "source": [
        "## Visualize results of Policy Iteration with multiple values of gamma\n",
        "\n",
        "Add code to visualize the results"
      ]
    },
    {
      "cell_type": "code",
      "metadata": {
        "id": "up8IOm_kDBUT",
        "colab": {
          "base_uri": "https://localhost:8080/"
        },
        "outputId": "8331d7f5-1846-4a33-eda4-cf2b8dfe4a79"
      },
      "source": [
        "## Visualize policy iteration with multiple values of gamma\n",
        "import pandas as pd\n",
        "results, extra_info, Rewards, Policy = {}, {}, [], []\n",
        "gamma_values = np.arange(5, 100, 5)/100\n",
        "for gamma in gamma_values:\n",
        "    results[gamma], extra_info = policy_iteration(env, gamma)\n",
        "    Rewards.append(extra_info[\"Expected Reward\"])\n",
        "    Policy.append(extra_info[\"Policy\"])\n",
        "\n",
        "\n",
        "print(\"Optimal Value for each state for each gamma\")\n",
        "rew = pd.DataFrame(Rewards, index = [gamma for gamma in gamma_values])\n",
        "print(\"\\n\")\n",
        "print(rew)\n",
        "print(\"\\n\")\n",
        "\n",
        "print(\"Optimal Policy for each state for each gamma\")\n",
        "pol = pd.DataFrame(Policy, index = [gamma for gamma in gamma_values])\n",
        "print(\"\\n\")\n",
        "print(pol)\n",
        "\n",
        "\n",
        "\n"
      ],
      "execution_count": null,
      "outputs": [
        {
          "output_type": "stream",
          "text": [
            "Optimal Value for each state for each gamma\n",
            "\n",
            "\n",
            "               A           B           C\n",
            "0.05    8.511527   16.400260    7.498869\n",
            "0.10    9.076506   16.856369    8.050865\n",
            "0.15    9.708121   17.464503    8.669160\n",
            "0.20   10.437030   18.482143    9.384398\n",
            "0.25   11.274074   19.629630   10.207407\n",
            "0.30   12.243837   20.934066   11.162756\n",
            "0.35   13.378714   22.430769   12.282824\n",
            "0.40   14.722222   24.166667   13.611111\n",
            "0.45   16.334131   26.205534   15.207371\n",
            "0.50   18.298701   28.636364   17.155844\n",
            "0.55   20.789989   31.607397   19.830725\n",
            "0.60   24.025686   35.327724   23.458813\n",
            "0.65   28.276692   40.096281   28.129979\n",
            "0.70   34.061931   46.435416   34.366041\n",
            "0.75   42.317411   55.285054   43.106317\n",
            "0.80   55.079365   68.558201   56.269841\n",
            "0.85   77.246512   90.811701   78.433456\n",
            "0.90  121.653471  135.306275  122.836903\n",
            "0.95  255.022908  268.764618  256.202849\n",
            "\n",
            "\n",
            "Optimal Policy for each state for each gamma\n",
            "\n",
            "\n",
            "      A  B  C\n",
            "0.05  1  1  1\n",
            "0.10  1  1  1\n",
            "0.15  1  2  1\n",
            "0.20  1  2  1\n",
            "0.25  1  2  1\n",
            "0.30  1  2  1\n",
            "0.35  1  2  1\n",
            "0.40  1  2  1\n",
            "0.45  1  2  1\n",
            "0.50  1  2  1\n",
            "0.55  1  2  2\n",
            "0.60  1  2  2\n",
            "0.65  1  2  2\n",
            "0.70  1  2  2\n",
            "0.75  1  2  2\n",
            "0.80  2  2  2\n",
            "0.85  2  2  2\n",
            "0.90  2  2  2\n",
            "0.95  2  2  2\n"
          ],
          "name": "stdout"
        }
      ]
    },
    {
      "cell_type": "markdown",
      "metadata": {
        "id": "SVeF4twxCbE2"
      },
      "source": [
        "# Subjective questions\n"
      ]
    },
    {
      "cell_type": "markdown",
      "metadata": {
        "id": "7OTOOLxFDGv4"
      },
      "source": [
        "## 1.a How are values of $\\gamma$ affecting results of policy iteration\n",
        "\n",
        "For lower values of $\\gamma$, the optimal values and policies favour the actions with higher rewards and doesnt capture much information from the previous state's values. Hence, the optimal values are lesser for lower $\\gamma$ values.\n",
        "\n",
        "Whereas from mid to higher values of $\\gamma$, we can see that the optimal actions for all the states becomes the action $2$. This is because, for these values of $\\gamma$ the current state's values depend more on the previous state's values as well as the the rewards for taking an action. Hence, we see an improvement of policy for all three states to {2,2,2}."
      ]
    },
    {
      "cell_type": "code",
      "metadata": {
        "colab": {
          "base_uri": "https://localhost:8080/",
          "height": 296
        },
        "id": "NP9ncjHdTG70",
        "outputId": "4d54b2cf-0f23-4457-be07-4bafab0d894f"
      },
      "source": [
        "import matplotlib.pyplot as plt\n",
        "results, extra_info = run_policy_iteration(env)\n",
        "gamma = list(results.keys())\n",
        "for s in env.possible_states:\n",
        "  J = []\n",
        "  for i in gamma:\n",
        "    J.append(results[i][\"Expected Reward\"][s])\n",
        "  plt.plot(gamma, J)\n",
        "plt.xlabel('Gamma')\n",
        "plt.ylabel(\"Expected Reward\")\n",
        "plt.legend(env.possible_states)\n"
      ],
      "execution_count": null,
      "outputs": [
        {
          "output_type": "execute_result",
          "data": {
            "text/plain": [
              "<matplotlib.legend.Legend at 0x7f33c71638d0>"
            ]
          },
          "metadata": {
            "tags": []
          },
          "execution_count": 22
        },
        {
          "output_type": "display_data",
          "data": {
            "image/png": "[encoded data removed]",
            "text/plain": [
              "<Figure size 432x288 with 1 Axes>"
            ]
          },
          "metadata": {
            "tags": [],
            "needs_background": "light"
          }
        }
      ]
    },
    {
      "cell_type": "markdown",
      "metadata": {
        "id": "GAwfK84I9Gfr"
      },
      "source": [
        "## 1.b For modified policy iteration, do you find any improvement if you choose m=10.\n",
        "\n",
        "When we choose m=10 we see an improvement in the expected reward beacuse it increases, but the optimal policy continues to be the same. "
      ]
    },
    {
      "cell_type": "markdown",
      "metadata": {
        "id": "7SkpuEN0DWww"
      },
      "source": [
        "## 1.c Compare and contrast the behavior of Value Iteration and Gauss Seidel Value Iteraton\n",
        "\n",
        "Value Iteration takes more iterations to converge because it goes through all the states and then updates the values at the end. Whereas Gauss Siedel Value Iteration updates the values at the end of each state which helps in converge in lesser number of iteration because it uses information from the previous iteration on the states."
      ]
    },
    {
      "cell_type": "markdown",
      "metadata": {
        "id": "FO8mOpHW_JdB"
      },
      "source": [
        "# Submit to AIcrowd 🚀"
      ]
    },
    {
      "cell_type": "code",
      "metadata": {
        "id": "3WDAXnI17HNM",
        "colab": {
          "base_uri": "https://localhost:8080/"
        },
        "outputId": "a535e186-26d1-41a4-84c8-aae8a42a3a54"
      },
      "source": [
        "!DATASET_PATH=$AICROWD_DATASET_PATH aicrowd notebook submit -c iit-m-rl-assignment-2-taxi -a assets"
      ],
      "execution_count": null,
      "outputs": [
        {
          "output_type": "stream",
          "text": [
            "WARNING: No assets directory at assets... Creating one...\n",
            "No jupyter lab module found. Using jupyter notebook.\n",
            "Using notebook: /content/Copy%20of%20IITM_Assignment_2_Taxi_Release.ipynb for submission...\n",
            "\u001b[1;34mMounting Google Drive 💾\u001b[0m\n",
            "Your Google Drive will be mounted to access the colab notebook\n",
            "Go to this URL in a browser: https://accounts.google.com/o/oauth2/auth?client_id=947318989803-6bn6qk8qdgf4n4g3pfee6491hc0brc4i.apps.googleusercontent.com&redirect_uri=urn%3aietf%3awg%3aoauth%3a2.0%3aoob&scope=email%20https%3a%2f%2fwww.googleapis.com%2fauth%2fdocs.test%20https%3a%2f%2fwww.googleapis.com%2fauth%2fdrive%20https%3a%2f%2fwww.googleapis.com%2fauth%2fdrive.photos.readonly%20https%3a%2f%2fwww.googleapis.com%2fauth%2fpeopleapi.readonly%20https%3a%2f%2fwww.googleapis.com%2fauth%2fdrive.activity.readonly%20https%3a%2f%2fwww.googleapis.com%2fauth%2fexperimentsandconfigs%20https%3a%2f%2fwww.googleapis.com%2fauth%2fphotos.native&response_type=code\n",
            "\n",
            "Enter your authorization code:\n",
            "4/1AY0e-g7BtU533aeI6emMv0gSPBeWr9XEGA3AgcnWEuBIAd5Q-ycsGyLEW80\n",
            "Mounted at /content/drive\n",
            "No jupyter lab module found. Using jupyter notebook.\n",
            "Scrubbing API keys from the notebook...\n",
            "\u001b[91m╭─\u001b[0m\u001b[91m──────────────────── \u001b[0m\u001b[1;31mTraceback \u001b[0m\u001b[1;2;31m(most recent call last)\u001b[0m\u001b[91m ─────────────────────\u001b[0m\u001b[91m─╮\u001b[0m\n",
            "\u001b[91m│\u001b[0m \u001b[2;33m/usr/local/bin/\u001b[0m\u001b[1;33maicrowd\u001b[0m:\u001b[94m8\u001b[0m in \u001b[92m<module>\u001b[0m                                         \u001b[91m│\u001b[0m\n",
            "\u001b[91m│\u001b[0m                                                                              \u001b[91m│\u001b[0m\n",
            "\u001b[91m│\u001b[0m   \u001b[2m5 \u001b[0m\u001b[94mfrom\u001b[0m \u001b[4;96maicrowd\u001b[0m\u001b[4;96m.\u001b[0m\u001b[4;96mcli\u001b[0m \u001b[94mimport\u001b[0m cli                                              \u001b[91m│\u001b[0m\n",
            "\u001b[91m│\u001b[0m   \u001b[2m6 \u001b[0m\u001b[94mif\u001b[0m \u001b[91m__name__\u001b[0m == \u001b[33m'\u001b[0m\u001b[33m__main__\u001b[0m\u001b[33m'\u001b[0m:                                               \u001b[91m│\u001b[0m\n",
            "\u001b[91m│\u001b[0m   \u001b[2m7 \u001b[0m\u001b[2m│   \u001b[0msys.argv[\u001b[94m0\u001b[0m] = re.sub(\u001b[33mr\u001b[0m\u001b[33m'\u001b[0m\u001b[33m(-script\u001b[0m\u001b[33m\\\u001b[0m\u001b[33m.pyw|\u001b[0m\u001b[33m\\\u001b[0m\u001b[33m.exe)?$\u001b[0m\u001b[33m'\u001b[0m, \u001b[33m'\u001b[0m\u001b[33m'\u001b[0m, sys.argv[\u001b[94m0\u001b[0m])     \u001b[91m│\u001b[0m\n",
            "\u001b[91m│\u001b[0m \u001b[31m❱ \u001b[0m8 \u001b[2m│   \u001b[0msys.exit(cli())                                                      \u001b[91m│\u001b[0m\n",
            "\u001b[91m│\u001b[0m                                                                              \u001b[91m│\u001b[0m\n",
            "\u001b[91m│\u001b[0m \u001b[2;33m/usr/local/lib/python3.7/dist-packages/click/\u001b[0m\u001b[1;33mcore.py\u001b[0m:\u001b[94m829\u001b[0m in \u001b[92m__call__\u001b[0m         \u001b[91m│\u001b[0m\n",
            "\u001b[91m│\u001b[0m                                                                              \u001b[91m│\u001b[0m\n",
            "\u001b[91m│\u001b[0m   \u001b[2m 826 \u001b[0m\u001b[2m│   \u001b[0m                                                                  \u001b[91m│\u001b[0m\n",
            "\u001b[91m│\u001b[0m   \u001b[2m 827 \u001b[0m\u001b[2m│   \u001b[0m\u001b[94mdef\u001b[0m \u001b[92m__call__\u001b[0m(\u001b[96mself\u001b[0m, *args, **kwargs):                              \u001b[91m│\u001b[0m\n",
            "\u001b[91m│\u001b[0m   \u001b[2m 828 \u001b[0m\u001b[2m│   │   \u001b[0m\u001b[33m\"\"\"Alias for :meth:`main`.\"\"\"\u001b[0m                                 \u001b[91m│\u001b[0m\n",
            "\u001b[91m│\u001b[0m \u001b[31m❱ \u001b[0m 829 \u001b[2m│   │   \u001b[0m\u001b[94mreturn\u001b[0m \u001b[96mself\u001b[0m.main(*args, **kwargs)                             \u001b[91m│\u001b[0m\n",
            "\u001b[91m│\u001b[0m   \u001b[2m 830 \u001b[0m                                                                      \u001b[91m│\u001b[0m\n",
            "\u001b[91m│\u001b[0m   \u001b[2m 831 \u001b[0m                                                                      \u001b[91m│\u001b[0m\n",
            "\u001b[91m│\u001b[0m   \u001b[2m 832 \u001b[0m\u001b[94mclass\u001b[0m \u001b[4;92mCommand\u001b[0m(BaseCommand):                                           \u001b[91m│\u001b[0m\n",
            "\u001b[91m│\u001b[0m                                                                              \u001b[91m│\u001b[0m\n",
            "\u001b[91m│\u001b[0m \u001b[2;33m/usr/local/lib/python3.7/dist-packages/click/\u001b[0m\u001b[1;33mcore.py\u001b[0m:\u001b[94m782\u001b[0m in \u001b[92mmain\u001b[0m             \u001b[91m│\u001b[0m\n",
            "\u001b[91m│\u001b[0m                                                                              \u001b[91m│\u001b[0m\n",
            "\u001b[91m│\u001b[0m   \u001b[2m 779 \u001b[0m\u001b[2m│   │   \u001b[0m\u001b[94mtry\u001b[0m:                                                          \u001b[91m│\u001b[0m\n",
            "\u001b[91m│\u001b[0m   \u001b[2m 780 \u001b[0m\u001b[2m│   │   │   \u001b[0m\u001b[94mtry\u001b[0m:                                                      \u001b[91m│\u001b[0m\n",
            "\u001b[91m│\u001b[0m   \u001b[2m 781 \u001b[0m\u001b[2m│   │   │   │   \u001b[0m\u001b[94mwith\u001b[0m \u001b[96mself\u001b[0m.make_context(prog_name, args, **extra) \u001b[94mas\u001b[0m c \u001b[91m│\u001b[0m\n",
            "\u001b[91m│\u001b[0m \u001b[31m❱ \u001b[0m 782 \u001b[2m│   │   │   │   │   \u001b[0mrv = \u001b[96mself\u001b[0m.invoke(ctx)                             \u001b[91m│\u001b[0m\n",
            "\u001b[91m│\u001b[0m   \u001b[2m 783 \u001b[0m\u001b[2m│   │   │   │   │   \u001b[0m\u001b[94mif\u001b[0m \u001b[95mnot\u001b[0m standalone_mode:                           \u001b[91m│\u001b[0m\n",
            "\u001b[91m│\u001b[0m   \u001b[2m 784 \u001b[0m\u001b[2m│   │   │   │   │   │   \u001b[0m\u001b[94mreturn\u001b[0m rv                                     \u001b[91m│\u001b[0m\n",
            "\u001b[91m│\u001b[0m   \u001b[2m 785 \u001b[0m\u001b[2m│   │   │   │   │   \u001b[0m\u001b[2m# it's not safe to `ctx.exit(rv)` here!\u001b[0m           \u001b[91m│\u001b[0m\n",
            "\u001b[91m│\u001b[0m                                                                              \u001b[91m│\u001b[0m\n",
            "\u001b[91m│\u001b[0m \u001b[2;33m/usr/local/lib/python3.7/dist-packages/click/\u001b[0m\u001b[1;33mcore.py\u001b[0m:\u001b[94m1259\u001b[0m in \u001b[92minvoke\u001b[0m          \u001b[91m│\u001b[0m\n",
            "\u001b[91m│\u001b[0m                                                                              \u001b[91m│\u001b[0m\n",
            "\u001b[91m│\u001b[0m   \u001b[2m1256 \u001b[0m\u001b[2m│   │   │   │   \u001b[0mCommand.invoke(\u001b[96mself\u001b[0m, ctx)                             \u001b[91m│\u001b[0m\n",
            "\u001b[91m│\u001b[0m   \u001b[2m1257 \u001b[0m\u001b[2m│   │   │   │   \u001b[0msub_ctx = cmd.make_context(cmd_name, args, parent=ctx \u001b[91m│\u001b[0m\n",
            "\u001b[91m│\u001b[0m   \u001b[2m1258 \u001b[0m\u001b[2m│   │   │   │   \u001b[0m\u001b[94mwith\u001b[0m sub_ctx:                                         \u001b[91m│\u001b[0m\n",
            "\u001b[91m│\u001b[0m \u001b[31m❱ \u001b[0m1259 \u001b[2m│   │   │   │   │   \u001b[0m\u001b[94mreturn\u001b[0m _process_result(sub_ctx.command.invoke(sub \u001b[91m│\u001b[0m\n",
            "\u001b[91m│\u001b[0m   \u001b[2m1260 \u001b[0m\u001b[2m│   │   \u001b[0m                                                              \u001b[91m│\u001b[0m\n",
            "\u001b[91m│\u001b[0m   \u001b[2m1261 \u001b[0m\u001b[2m│   │   \u001b[0m\u001b[2m# In chain mode we create the contexts step by step, but afte\u001b[0m \u001b[91m│\u001b[0m\n",
            "\u001b[91m│\u001b[0m   \u001b[2m1262 \u001b[0m\u001b[2m│   │   \u001b[0m\u001b[2m# base command has been invoked.  Because at that point we do\u001b[0m \u001b[91m│\u001b[0m\n",
            "\u001b[91m│\u001b[0m                                                                              \u001b[91m│\u001b[0m\n",
            "\u001b[91m│\u001b[0m \u001b[2;33m/usr/local/lib/python3.7/dist-packages/click/\u001b[0m\u001b[1;33mcore.py\u001b[0m:\u001b[94m1259\u001b[0m in \u001b[92minvoke\u001b[0m          \u001b[91m│\u001b[0m\n",
            "\u001b[91m│\u001b[0m                                                                              \u001b[91m│\u001b[0m\n",
            "\u001b[91m│\u001b[0m   \u001b[2m1256 \u001b[0m\u001b[2m│   │   │   │   \u001b[0mCommand.invoke(\u001b[96mself\u001b[0m, ctx)                             \u001b[91m│\u001b[0m\n",
            "\u001b[91m│\u001b[0m   \u001b[2m1257 \u001b[0m\u001b[2m│   │   │   │   \u001b[0msub_ctx = cmd.make_context(cmd_name, args, parent=ctx \u001b[91m│\u001b[0m\n",
            "\u001b[91m│\u001b[0m   \u001b[2m1258 \u001b[0m\u001b[2m│   │   │   │   \u001b[0m\u001b[94mwith\u001b[0m sub_ctx:                                         \u001b[91m│\u001b[0m\n",
            "\u001b[91m│\u001b[0m \u001b[31m❱ \u001b[0m1259 \u001b[2m│   │   │   │   │   \u001b[0m\u001b[94mreturn\u001b[0m _process_result(sub_ctx.command.invoke(sub \u001b[91m│\u001b[0m\n",
            "\u001b[91m│\u001b[0m   \u001b[2m1260 \u001b[0m\u001b[2m│   │   \u001b[0m                                                              \u001b[91m│\u001b[0m\n",
            "\u001b[91m│\u001b[0m   \u001b[2m1261 \u001b[0m\u001b[2m│   │   \u001b[0m\u001b[2m# In chain mode we create the contexts step by step, but afte\u001b[0m \u001b[91m│\u001b[0m\n",
            "\u001b[91m│\u001b[0m   \u001b[2m1262 \u001b[0m\u001b[2m│   │   \u001b[0m\u001b[2m# base command has been invoked.  Because at that point we do\u001b[0m \u001b[91m│\u001b[0m\n",
            "\u001b[91m│\u001b[0m                                                                              \u001b[91m│\u001b[0m\n",
            "\u001b[91m│\u001b[0m \u001b[2;33m/usr/local/lib/python3.7/dist-packages/click/\u001b[0m\u001b[1;33mcore.py\u001b[0m:\u001b[94m1066\u001b[0m in \u001b[92minvoke\u001b[0m          \u001b[91m│\u001b[0m\n",
            "\u001b[91m│\u001b[0m                                                                              \u001b[91m│\u001b[0m\n",
            "\u001b[91m│\u001b[0m   \u001b[2m1063 \u001b[0m\u001b[2;33m│   │   \u001b[0m\u001b[33m\"\"\"\u001b[0m                                                           \u001b[91m│\u001b[0m\n",
            "\u001b[91m│\u001b[0m   \u001b[2m1064 \u001b[0m\u001b[2m│   │   \u001b[0m_maybe_show_deprecated_notice(\u001b[96mself\u001b[0m)                           \u001b[91m│\u001b[0m\n",
            "\u001b[91m│\u001b[0m   \u001b[2m1065 \u001b[0m\u001b[2m│   │   \u001b[0m\u001b[94mif\u001b[0m \u001b[96mself\u001b[0m.callback \u001b[95mis\u001b[0m \u001b[95mnot\u001b[0m \u001b[94mNone\u001b[0m:                                 \u001b[91m│\u001b[0m\n",
            "\u001b[91m│\u001b[0m \u001b[31m❱ \u001b[0m1066 \u001b[2m│   │   │   \u001b[0m\u001b[94mreturn\u001b[0m ctx.invoke(\u001b[96mself\u001b[0m.callback, **ctx.params)            \u001b[91m│\u001b[0m\n",
            "\u001b[91m│\u001b[0m   \u001b[2m1067 \u001b[0m                                                                      \u001b[91m│\u001b[0m\n",
            "\u001b[91m│\u001b[0m   \u001b[2m1068 \u001b[0m                                                                      \u001b[91m│\u001b[0m\n",
            "\u001b[91m│\u001b[0m   \u001b[2m1069 \u001b[0m\u001b[94mclass\u001b[0m \u001b[4;92mMultiCommand\u001b[0m(Command):                                          \u001b[91m│\u001b[0m\n",
            "\u001b[91m│\u001b[0m                                                                              \u001b[91m│\u001b[0m\n",
            "\u001b[91m│\u001b[0m \u001b[2;33m/usr/local/lib/python3.7/dist-packages/click/\u001b[0m\u001b[1;33mcore.py\u001b[0m:\u001b[94m610\u001b[0m in \u001b[92minvoke\u001b[0m           \u001b[91m│\u001b[0m\n",
            "\u001b[91m│\u001b[0m                                                                              \u001b[91m│\u001b[0m\n",
            "\u001b[91m│\u001b[0m   \u001b[2m 607 \u001b[0m\u001b[2m│   │   \u001b[0margs = args[\u001b[94m2\u001b[0m:]                                               \u001b[91m│\u001b[0m\n",
            "\u001b[91m│\u001b[0m   \u001b[2m 608 \u001b[0m\u001b[2m│   │   \u001b[0m\u001b[94mwith\u001b[0m augment_usage_errors(\u001b[96mself\u001b[0m):                              \u001b[91m│\u001b[0m\n",
            "\u001b[91m│\u001b[0m   \u001b[2m 609 \u001b[0m\u001b[2m│   │   │   \u001b[0m\u001b[94mwith\u001b[0m ctx:                                                 \u001b[91m│\u001b[0m\n",
            "\u001b[91m│\u001b[0m \u001b[31m❱ \u001b[0m 610 \u001b[2m│   │   │   │   \u001b[0m\u001b[94mreturn\u001b[0m callback(*args, **kwargs)                      \u001b[91m│\u001b[0m\n",
            "\u001b[91m│\u001b[0m   \u001b[2m 611 \u001b[0m\u001b[2m│   \u001b[0m                                                                  \u001b[91m│\u001b[0m\n",
            "\u001b[91m│\u001b[0m   \u001b[2m 612 \u001b[0m\u001b[2m│   \u001b[0m\u001b[94mdef\u001b[0m \u001b[92mforward\u001b[0m(*args, **kwargs):  \u001b[2m# noqa: B902\u001b[0m                       \u001b[91m│\u001b[0m\n",
            "\u001b[91m│\u001b[0m   \u001b[2m 613 \u001b[0m\u001b[2m│   │   \u001b[0m\u001b[33m\"\"\"Similar to :meth:`invoke` but fills in default keyword\u001b[0m     \u001b[91m│\u001b[0m\n",
            "\u001b[91m│\u001b[0m                                                                              \u001b[91m│\u001b[0m\n",
            "\u001b[91m│\u001b[0m \u001b[2;33m/usr/local/lib/python3.7/dist-packages/aicrowd/cmd/\u001b[0m\u001b[1;33mnotebook.py\u001b[0m:\u001b[94m92\u001b[0m in         \u001b[91m│\u001b[0m\n",
            "\u001b[91m│\u001b[0m \u001b[92msubmit_subcommand\u001b[0m                                                            \u001b[91m│\u001b[0m\n",
            "\u001b[91m│\u001b[0m                                                                              \u001b[91m│\u001b[0m\n",
            "\u001b[91m│\u001b[0m   \u001b[2m 89 \u001b[0m\u001b[2m│   │   \u001b[0moutput,                                                        \u001b[91m│\u001b[0m\n",
            "\u001b[91m│\u001b[0m   \u001b[2m 90 \u001b[0m\u001b[2m│   │   \u001b[0mnotebook_name,                                                 \u001b[91m│\u001b[0m\n",
            "\u001b[91m│\u001b[0m   \u001b[2m 91 \u001b[0m\u001b[2m│   │   \u001b[0mno_verify,                                                     \u001b[91m│\u001b[0m\n",
            "\u001b[91m│\u001b[0m \u001b[31m❱ \u001b[0m 92 \u001b[2m│   │   \u001b[0mdry_run,                                                       \u001b[91m│\u001b[0m\n",
            "\u001b[91m│\u001b[0m   \u001b[2m 93 \u001b[0m\u001b[2m│   \u001b[0m)                                                                  \u001b[91m│\u001b[0m\n",
            "\u001b[91m│\u001b[0m                                                                              \u001b[91m│\u001b[0m\n",
            "\u001b[91m│\u001b[0m \u001b[2;33m/usr/local/lib/python3.7/dist-packages/aicrowd/notebook/\u001b[0m\u001b[1;33msubmit.py\u001b[0m:\u001b[94m86\u001b[0m in      \u001b[91m│\u001b[0m\n",
            "\u001b[91m│\u001b[0m \u001b[92mcreate_submission\u001b[0m                                                            \u001b[91m│\u001b[0m\n",
            "\u001b[91m│\u001b[0m                                                                              \u001b[91m│\u001b[0m\n",
            "\u001b[91m│\u001b[0m   \u001b[2m83 \u001b[0m\u001b[2m│   \u001b[0mno_verify: \u001b[96mbool\u001b[0m = \u001b[94mFalse\u001b[0m,                                            \u001b[91m│\u001b[0m\n",
            "\u001b[91m│\u001b[0m   \u001b[2m84 \u001b[0m\u001b[2m│   \u001b[0mdry_run: \u001b[96mbool\u001b[0m = \u001b[94mFalse\u001b[0m,                                              \u001b[91m│\u001b[0m\n",
            "\u001b[91m│\u001b[0m   \u001b[2m85 \u001b[0m):                                                                      \u001b[91m│\u001b[0m\n",
            "\u001b[91m│\u001b[0m \u001b[31m❱ \u001b[0m86 \u001b[2m│   \u001b[0mbundle_submission(assets_dir, submission_zip_path, notebook_name)   \u001b[91m│\u001b[0m\n",
            "\u001b[91m│\u001b[0m   \u001b[2m87 \u001b[0m\u001b[2m│   \u001b[0m\u001b[94mif\u001b[0m \u001b[95mnot\u001b[0m no_verify:                                                   \u001b[91m│\u001b[0m\n",
            "\u001b[91m│\u001b[0m   \u001b[2m88 \u001b[0m\u001b[2m│   │   \u001b[0mverify_submission()                                             \u001b[91m│\u001b[0m\n",
            "\u001b[91m│\u001b[0m   \u001b[2m89 \u001b[0m\u001b[2m│   \u001b[0m\u001b[94mif\u001b[0m \u001b[95mnot\u001b[0m dry_run:                                                     \u001b[91m│\u001b[0m\n",
            "\u001b[91m│\u001b[0m                                                                              \u001b[91m│\u001b[0m\n",
            "\u001b[91m│\u001b[0m \u001b[2;33m/usr/local/lib/python3.7/dist-packages/aicrowd/notebook/\u001b[0m\u001b[1;33msubmit.py\u001b[0m:\u001b[94m63\u001b[0m in      \u001b[91m│\u001b[0m\n",
            "\u001b[91m│\u001b[0m \u001b[92mbundle_submission\u001b[0m                                                            \u001b[91m│\u001b[0m\n",
            "\u001b[91m│\u001b[0m                                                                              \u001b[91m│\u001b[0m\n",
            "\u001b[91m│\u001b[0m   \u001b[2m60 \u001b[0m\u001b[2m│   \u001b[0mcleaned_notebook_path = os.path.join(SUBMISSION_DIR, \u001b[33m\"\u001b[0m\u001b[33moriginal_note\u001b[0m \u001b[91m│\u001b[0m\n",
            "\u001b[91m│\u001b[0m   \u001b[2m61 \u001b[0m\u001b[2m│   \u001b[0m\u001b[94mif\u001b[0m notebook_name \u001b[95mis\u001b[0m \u001b[94mNone\u001b[0m:                                           \u001b[91m│\u001b[0m\n",
            "\u001b[91m│\u001b[0m   \u001b[2m62 \u001b[0m\u001b[2m│   │   \u001b[0mnotebook_name = get_notebook_path()                             \u001b[91m│\u001b[0m\n",
            "\u001b[91m│\u001b[0m \u001b[31m❱ \u001b[0m63 \u001b[2m│   \u001b[0mclean_notebook(notebook_name, cleaned_notebook_path)                \u001b[91m│\u001b[0m\n",
            "\u001b[91m│\u001b[0m   \u001b[2m64 \u001b[0m\u001b[2m│   \u001b[0m                                                                    \u001b[91m│\u001b[0m\n",
            "\u001b[91m│\u001b[0m   \u001b[2m65 \u001b[0m\u001b[2m│   \u001b[0m\u001b[2m# Breaks the notebook into {install, train, predict}.ipynb\u001b[0m          \u001b[91m│\u001b[0m\n",
            "\u001b[91m│\u001b[0m   \u001b[2m66 \u001b[0m\u001b[2m│   \u001b[0msplit_notebook(cleaned_notebook_path, SUBMISSION_DIR)               \u001b[91m│\u001b[0m\n",
            "\u001b[91m│\u001b[0m                                                                              \u001b[91m│\u001b[0m\n",
            "\u001b[91m│\u001b[0m \u001b[2;33m/usr/local/lib/python3.7/dist-packages/aicrowd/notebook/\u001b[0m\u001b[1;33mclean.py\u001b[0m:\u001b[94m28\u001b[0m in       \u001b[91m│\u001b[0m\n",
            "\u001b[91m│\u001b[0m \u001b[92mclean_notebook\u001b[0m                                                               \u001b[91m│\u001b[0m\n",
            "\u001b[91m│\u001b[0m                                                                              \u001b[91m│\u001b[0m\n",
            "\u001b[91m│\u001b[0m   \u001b[2m25 \u001b[0m\u001b[2m│   \u001b[0m\u001b[94melse\u001b[0m:                                                               \u001b[91m│\u001b[0m\n",
            "\u001b[91m│\u001b[0m   \u001b[2m26 \u001b[0m\u001b[2m│   │   \u001b[0mclean_expressions = json.loads(clean_expressions)               \u001b[91m│\u001b[0m\n",
            "\u001b[91m│\u001b[0m   \u001b[2m27 \u001b[0m\u001b[2m│   \u001b[0m                                                                    \u001b[91m│\u001b[0m\n",
            "\u001b[91m│\u001b[0m \u001b[31m❱ \u001b[0m28 \u001b[2m│   \u001b[0mcleaned_nb = delete_expressions_from_notebook(clean_expressions, fi \u001b[91m│\u001b[0m\n",
            "\u001b[91m│\u001b[0m   \u001b[2m29 \u001b[0m\u001b[2m│   \u001b[0m                                                                    \u001b[91m│\u001b[0m\n",
            "\u001b[91m│\u001b[0m   \u001b[2m30 \u001b[0m\u001b[2m│   \u001b[0m\u001b[94mif\u001b[0m output_path \u001b[95mis\u001b[0m \u001b[94mNone\u001b[0m:                                             \u001b[91m│\u001b[0m\n",
            "\u001b[91m│\u001b[0m   \u001b[2m31 \u001b[0m\u001b[2m│   │   \u001b[0moutput_path = file_path                                         \u001b[91m│\u001b[0m\n",
            "\u001b[91m│\u001b[0m                                                                              \u001b[91m│\u001b[0m\n",
            "\u001b[91m│\u001b[0m \u001b[2;33m/usr/local/lib/python3.7/dist-packages/aicrowd/notebook/\u001b[0m\u001b[1;33mhelpers.py\u001b[0m:\u001b[94m38\u001b[0m in     \u001b[91m│\u001b[0m\n",
            "\u001b[91m│\u001b[0m \u001b[92mdelete_expressions_from_notebook\u001b[0m                                             \u001b[91m│\u001b[0m\n",
            "\u001b[91m│\u001b[0m                                                                              \u001b[91m│\u001b[0m\n",
            "\u001b[91m│\u001b[0m   \u001b[2m 35 \u001b[0m\u001b[2;33m│   │   \u001b[0m\u001b[33mexpressions: List of regular expressions to match\u001b[0m              \u001b[91m│\u001b[0m\n",
            "\u001b[91m│\u001b[0m   \u001b[2m 36 \u001b[0m\u001b[2;33m│   │   \u001b[0m\u001b[33mfile_path: Path to the notebook\u001b[0m                                \u001b[91m│\u001b[0m\n",
            "\u001b[91m│\u001b[0m   \u001b[2m 37 \u001b[0m\u001b[2;33m│   \u001b[0m\u001b[33m\"\"\"\u001b[0m                                                                \u001b[91m│\u001b[0m\n",
            "\u001b[91m│\u001b[0m \u001b[31m❱ \u001b[0m 38 \u001b[2m│   \u001b[0mnb = read_notebook(file_path)                                      \u001b[91m│\u001b[0m\n",
            "\u001b[91m│\u001b[0m   \u001b[2m 39 \u001b[0m\u001b[2m│   \u001b[0m                                                                   \u001b[91m│\u001b[0m\n",
            "\u001b[91m│\u001b[0m   \u001b[2m 40 \u001b[0m\u001b[2m│   \u001b[0m\u001b[2m# TODO: Duplicated code, refactor\u001b[0m                                  \u001b[91m│\u001b[0m\n",
            "\u001b[91m│\u001b[0m   \u001b[2m 41 \u001b[0m\u001b[2m│   \u001b[0m\u001b[94mfor\u001b[0m _cell \u001b[95min\u001b[0m nb[\u001b[33m\"\u001b[0m\u001b[33mcells\u001b[0m\u001b[33m\"\u001b[0m]:                                          \u001b[91m│\u001b[0m\n",
            "\u001b[91m│\u001b[0m                                                                              \u001b[91m│\u001b[0m\n",
            "\u001b[91m│\u001b[0m \u001b[2;33m/usr/local/lib/python3.7/dist-packages/aicrowd/notebook/\u001b[0m\u001b[1;33mhelpers.py\u001b[0m:\u001b[94m18\u001b[0m in     \u001b[91m│\u001b[0m\n",
            "\u001b[91m│\u001b[0m \u001b[92mread_notebook\u001b[0m                                                                \u001b[91m│\u001b[0m\n",
            "\u001b[91m│\u001b[0m                                                                              \u001b[91m│\u001b[0m\n",
            "\u001b[91m│\u001b[0m   \u001b[2m 15 \u001b[0m                                                                       \u001b[91m│\u001b[0m\n",
            "\u001b[91m│\u001b[0m   \u001b[2m 16 \u001b[0m                                                                       \u001b[91m│\u001b[0m\n",
            "\u001b[91m│\u001b[0m   \u001b[2m 17 \u001b[0m\u001b[94mdef\u001b[0m \u001b[92mread_notebook\u001b[0m(file_path: \u001b[96mstr\u001b[0m) -> Dict[\u001b[96mstr\u001b[0m, Any]:                   \u001b[91m│\u001b[0m\n",
            "\u001b[91m│\u001b[0m \u001b[31m❱ \u001b[0m 18 \u001b[2m│   \u001b[0m\u001b[94mwith\u001b[0m \u001b[96mopen\u001b[0m(file_path) \u001b[94mas\u001b[0m fp:                                        \u001b[91m│\u001b[0m\n",
            "\u001b[91m│\u001b[0m   \u001b[2m 19 \u001b[0m\u001b[2m│   │   \u001b[0mnb = json.load(fp)                                             \u001b[91m│\u001b[0m\n",
            "\u001b[91m│\u001b[0m   \u001b[2m 20 \u001b[0m\u001b[2m│   \u001b[0m\u001b[94mreturn\u001b[0m nb                                                          \u001b[91m│\u001b[0m\n",
            "\u001b[91m╰──────────────────────────────────────────────────────────────────────────────╯\u001b[0m\n",
            "\u001b[1;91mFileNotFoundError: \u001b[0m\u001b[1m[\u001b[0mErrno \u001b[1;36m2\u001b[0m\u001b[1m]\u001b[0m No such file or directory: \n",
            "\u001b[32m'/content/drive/MyDrive/Colab Notebooks/Copy of \u001b[0m\n",
            "\u001b[32mIITM_Assignment_2_Taxi_Release.ipynb'\u001b[0m\n"
          ],
          "name": "stdout"
        }
      ]
    },
    {
      "cell_type": "code",
      "metadata": {
        "id": "2G0OLkvJUwTv"
      },
      "source": [
        ""
      ],
      "execution_count": null,
      "outputs": []
    }
  ]
}
